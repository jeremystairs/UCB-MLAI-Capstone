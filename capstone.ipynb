{
 "cells": [
  {
   "cell_type": "markdown",
   "id": "b12d1cf0-6e2b-4489-9050-69961f97a864",
   "metadata": {},
   "source": [
    "# Capstone Project: Predicting Speeding from Open Street Maps and Telematics Data\n",
    "\n",
    "##### Professional Certificate in Machine Learning and Artificial Intelligence\n",
    "##### Jeremy Stairs\n",
    "##### June 2024"
   ]
  },
  {
   "cell_type": "code",
   "execution_count": 1,
   "id": "94d2ce70-04cb-4696-be03-d15c8ba9dffc",
   "metadata": {},
   "outputs": [],
   "source": [
    "import pandas as pd\n",
    "import numpy as np\n",
    "import seaborn as sns\n",
    "import matplotlib.pyplot as plt\n",
    "import time    \n",
    "\n",
    "from sklearn.model_selection import train_test_split, GridSearchCV\n",
    "from sklearn.preprocessing import StandardScaler\n",
    "from sklearn.pipeline import Pipeline\n",
    "from sklearn.dummy import DummyClassifier\n",
    "from sklearn.linear_model import LogisticRegression\n",
    "from sklearn.neighbors import KNeighborsClassifier\n",
    "from sklearn.tree import DecisionTreeClassifier\n",
    "from sklearn.svm import SVC\n",
    "from sklearn.metrics import accuracy_score\n",
    "from sklearn.metrics import confusion_matrix, ConfusionMatrixDisplay"
   ]
  },
  {
   "cell_type": "markdown",
   "id": "1f567593-5fa1-4a70-a5e6-df6e31256c2b",
   "metadata": {},
   "source": [
    "## 1. Business Understanding"
   ]
  },
  {
   "cell_type": "markdown",
   "id": "f2a47f7b-521e-4f99-a3a9-a5a68b88385e",
   "metadata": {},
   "source": [
    "### Executive Summary"
   ]
  },
  {
   "cell_type": "markdown",
   "id": "382f2621-7021-47d3-8c60-992190cf7f74",
   "metadata": {},
   "source": [
    "This project uses Open Street Maps (OSM) data with fleet vehicle data to predict if a driver is speeding in each driving report. Using OSM data, the cost per report will be much lower than the paid mapping services. Unfortunately, OSM is far from complete. Many requests are returned with no speed limit. It's difficult to predict the speed limit in a specific location using just OSM data. However, we might be able to use OSM data along with the known vehicle speed to predict if the driver is speeding. It's unlikelt that the error will be low enough to reliably send an alert to the user. Still, this prediction can idicate potential speeding. If speeding is likely, we can perform more accurate and costly speed limit queries. Ultimately, it's important that we catch each instance of speeding to ensure driver safety for all of our customers."
   ]
  },
  {
   "cell_type": "markdown",
   "id": "fe40f585-4d98-4dab-a3a5-e77f57beb8a9",
   "metadata": {},
   "source": [
    "### Rationale"
   ]
  },
  {
   "cell_type": "markdown",
   "id": "ebbcf274-a1f9-4a56-923f-a01f165ad4e5",
   "metadata": {},
   "source": [
    "As a fleet telematics company, our customers reqire alerts when drivers are speeding. Vehicle speed is included in each vehicle report. However, there are few complete speed limit databases. None are free. The Open Street Map project includes speed limits, but this only covers about 12% of its roads. Until the crowd-sourced database is complete, a model for predicting when a driver is speeding would allow us to reduce costs while still providing our customers with alerts needed to ensure fleet vehicles are driven safely. "
   ]
  },
  {
   "cell_type": "markdown",
   "id": "35e73fd8-6cc4-4b0e-9219-2a2490283169",
   "metadata": {},
   "source": [
    "### Research Question"
   ]
  },
  {
   "cell_type": "markdown",
   "id": "aec0db8f-a82a-4fb2-bdad-00e38ae202c9",
   "metadata": {},
   "source": [
    "Can telematics data and Open Street maps data be used to determine if a driver is speeding?\n",
    "\n",
    "Note:\n",
    "My original question asked if the speed limit could be predicted from OSM data. Early testing showed scores under 0.3. This was likely due to the target being multilabel with over 10 different labels. I decided to refoucus the question to determine when vehicles were driven over the posted speed limit. Thas has a simiple yes/no target and is very relavent to our company's speed limit alert serivce."
   ]
  },
  {
   "cell_type": "markdown",
   "id": "1edf7ef3-df20-4f6b-b338-0e7f98d9dbe9",
   "metadata": {},
   "source": [
    "## 2. Data Understanding"
   ]
  },
  {
   "cell_type": "markdown",
   "id": "2f2ed623-7c83-4166-b1b4-bbaaaa7e3fb9",
   "metadata": {},
   "source": [
    "### Data Sources"
   ]
  },
  {
   "cell_type": "markdown",
   "id": "7f81f025-7ada-41c4-ac09-de0ec5ba0c80",
   "metadata": {},
   "source": [
    "This project has two data sources:\n",
    "\n",
    "- Fleet telematics data\n",
    "- Open Street Maps (OSM) tag data\n",
    "\n",
    "Speed limits and associated mapping data are publicly available from the Open Street Map (OSM) project. There are mapping files with varying levels of granularity (continent, country, state). The files can be uncompressed and imported to a PostgreSQL server. The compressed mapping files for the entire world are about 100 GB which require about 1TB of database space. We have a server with full mapping data for the continental US. \n",
    "\n",
    "OSM Wiki: https://wiki.openstreetmap.orgLinks to an external site.\n",
    "\n",
    "OSM mapping files: https://download.geofabrik.de/\n",
    "\n",
    "Our units in the field report telematics data periodically while moving. This data is combined with data from OSM based on the vehicle location. I extracted data for several days of reporting when both vehicle speed and OSM speed limit were included. The data was unaltered expect for the 'speeding' column which was derived from the posted speed limit and the vehicle speed."
   ]
  },
  {
   "cell_type": "code",
   "execution_count": 2,
   "id": "7ad261b9",
   "metadata": {},
   "outputs": [],
   "source": [
    "speeding = pd.read_csv('data/speeding.csv', low_memory=False)"
   ]
  },
  {
   "cell_type": "code",
   "execution_count": 3,
   "id": "7e6ce018-8a56-49c5-873a-8a0ffeafc15f",
   "metadata": {},
   "outputs": [
    {
     "name": "stdout",
     "output_type": "stream",
     "text": [
      "<class 'pandas.core.frame.DataFrame'>\n",
      "RangeIndex: 196472 entries, 0 to 196471\n",
      "Data columns (total 9 columns):\n",
      " #   Column           Non-Null Count   Dtype  \n",
      "---  ------           --------------   -----  \n",
      " 0   normalizedSpeed  196430 non-null  float64\n",
      " 1   lanes            184500 non-null  object \n",
      " 2   oneway           170363 non-null  object \n",
      " 3   surface          121077 non-null  object \n",
      " 4   hgv              105231 non-null  object \n",
      " 5   foot             55820 non-null   object \n",
      " 6   horse            34329 non-null   object \n",
      " 7   bicycle          90839 non-null   object \n",
      " 8   speeding         196472 non-null  object \n",
      "dtypes: float64(1), object(8)\n",
      "memory usage: 13.5+ MB\n"
     ]
    }
   ],
   "source": [
    "speeding.info()"
   ]
  },
  {
   "cell_type": "markdown",
   "id": "b9fbed9a-9788-41a9-a0f4-a198a033ddd5",
   "metadata": {},
   "source": [
    "The dataset contains eight features and one target:\n",
    "- normalizedSpeed - vehicle speed normalized to miles per hour\n",
    "- lanes - number of lanes traveling in the same direction\n",
    "- oneway - indicates if the OSM way only allows travel in one directions, possible values: yes, no, reversible, alternating\n",
    "- surface - the phyical surface of the OSM way\n",
    "- hgv - indicates conditions for heavy good vehicles\n",
    "- foot - indicates if pedestrian foot traffic is allowed\n",
    "- horse - indicates if equestrians are allowed\n",
    "- bicycle - indicates if bicyclists are allowed\n",
    "- speeding - target - if 'yes', the vehicle speed was greater than posted speed limit, otherwise 'no'"
   ]
  },
  {
   "cell_type": "markdown",
   "id": "aecf327b-4670-43a8-b29a-4b0ae7b0df8c",
   "metadata": {},
   "source": [
    "## 3. Data Perparation"
   ]
  },
  {
   "cell_type": "code",
   "execution_count": 4,
   "id": "02546604-92a5-4137-84ed-62ae29363f1f",
   "metadata": {},
   "outputs": [
    {
     "data": {
      "text/html": [
       "<div>\n",
       "<style scoped>\n",
       "    .dataframe tbody tr th:only-of-type {\n",
       "        vertical-align: middle;\n",
       "    }\n",
       "\n",
       "    .dataframe tbody tr th {\n",
       "        vertical-align: top;\n",
       "    }\n",
       "\n",
       "    .dataframe thead th {\n",
       "        text-align: right;\n",
       "    }\n",
       "</style>\n",
       "<table border=\"1\" class=\"dataframe\">\n",
       "  <thead>\n",
       "    <tr style=\"text-align: right;\">\n",
       "      <th></th>\n",
       "      <th>normalizedSpeed</th>\n",
       "      <th>lanes</th>\n",
       "      <th>oneway</th>\n",
       "      <th>surface</th>\n",
       "      <th>hgv</th>\n",
       "      <th>foot</th>\n",
       "      <th>horse</th>\n",
       "      <th>bicycle</th>\n",
       "      <th>speeding</th>\n",
       "    </tr>\n",
       "  </thead>\n",
       "  <tbody>\n",
       "    <tr>\n",
       "      <th>0</th>\n",
       "      <td>61.0</td>\n",
       "      <td>2</td>\n",
       "      <td>NaN</td>\n",
       "      <td>asphalt</td>\n",
       "      <td>NaN</td>\n",
       "      <td>NaN</td>\n",
       "      <td>NaN</td>\n",
       "      <td>NaN</td>\n",
       "      <td>Yes</td>\n",
       "    </tr>\n",
       "    <tr>\n",
       "      <th>1</th>\n",
       "      <td>16.0</td>\n",
       "      <td>2</td>\n",
       "      <td>NaN</td>\n",
       "      <td>asphalt</td>\n",
       "      <td>NaN</td>\n",
       "      <td>NaN</td>\n",
       "      <td>NaN</td>\n",
       "      <td>NaN</td>\n",
       "      <td>No</td>\n",
       "    </tr>\n",
       "    <tr>\n",
       "      <th>2</th>\n",
       "      <td>50.0</td>\n",
       "      <td>3</td>\n",
       "      <td>yes</td>\n",
       "      <td>NaN</td>\n",
       "      <td>designated</td>\n",
       "      <td>no</td>\n",
       "      <td>no</td>\n",
       "      <td>no</td>\n",
       "      <td>No</td>\n",
       "    </tr>\n",
       "    <tr>\n",
       "      <th>3</th>\n",
       "      <td>19.0</td>\n",
       "      <td>2</td>\n",
       "      <td>NaN</td>\n",
       "      <td>asphalt</td>\n",
       "      <td>NaN</td>\n",
       "      <td>NaN</td>\n",
       "      <td>NaN</td>\n",
       "      <td>NaN</td>\n",
       "      <td>No</td>\n",
       "    </tr>\n",
       "    <tr>\n",
       "      <th>4</th>\n",
       "      <td>0.0</td>\n",
       "      <td>2</td>\n",
       "      <td>yes</td>\n",
       "      <td>asphalt</td>\n",
       "      <td>NaN</td>\n",
       "      <td>NaN</td>\n",
       "      <td>NaN</td>\n",
       "      <td>NaN</td>\n",
       "      <td>No</td>\n",
       "    </tr>\n",
       "    <tr>\n",
       "      <th>5</th>\n",
       "      <td>0.0</td>\n",
       "      <td>2</td>\n",
       "      <td>no</td>\n",
       "      <td>asphalt</td>\n",
       "      <td>NaN</td>\n",
       "      <td>NaN</td>\n",
       "      <td>NaN</td>\n",
       "      <td>NaN</td>\n",
       "      <td>No</td>\n",
       "    </tr>\n",
       "    <tr>\n",
       "      <th>6</th>\n",
       "      <td>5.0</td>\n",
       "      <td>2</td>\n",
       "      <td>no</td>\n",
       "      <td>asphalt</td>\n",
       "      <td>NaN</td>\n",
       "      <td>NaN</td>\n",
       "      <td>NaN</td>\n",
       "      <td>NaN</td>\n",
       "      <td>No</td>\n",
       "    </tr>\n",
       "    <tr>\n",
       "      <th>7</th>\n",
       "      <td>66.0</td>\n",
       "      <td>4</td>\n",
       "      <td>yes</td>\n",
       "      <td>NaN</td>\n",
       "      <td>designated</td>\n",
       "      <td>no</td>\n",
       "      <td>no</td>\n",
       "      <td>no</td>\n",
       "      <td>Yes</td>\n",
       "    </tr>\n",
       "    <tr>\n",
       "      <th>8</th>\n",
       "      <td>56.0</td>\n",
       "      <td>3</td>\n",
       "      <td>yes</td>\n",
       "      <td>NaN</td>\n",
       "      <td>designated</td>\n",
       "      <td>no</td>\n",
       "      <td>no</td>\n",
       "      <td>no</td>\n",
       "      <td>No</td>\n",
       "    </tr>\n",
       "    <tr>\n",
       "      <th>9</th>\n",
       "      <td>23.0</td>\n",
       "      <td>3</td>\n",
       "      <td>yes</td>\n",
       "      <td>NaN</td>\n",
       "      <td>designated</td>\n",
       "      <td>no</td>\n",
       "      <td>no</td>\n",
       "      <td>no</td>\n",
       "      <td>No</td>\n",
       "    </tr>\n",
       "  </tbody>\n",
       "</table>\n",
       "</div>"
      ],
      "text/plain": [
       "   normalizedSpeed lanes oneway  surface         hgv foot horse bicycle  \\\n",
       "0             61.0     2    NaN  asphalt         NaN  NaN   NaN     NaN   \n",
       "1             16.0     2    NaN  asphalt         NaN  NaN   NaN     NaN   \n",
       "2             50.0     3    yes      NaN  designated   no    no      no   \n",
       "3             19.0     2    NaN  asphalt         NaN  NaN   NaN     NaN   \n",
       "4              0.0     2    yes  asphalt         NaN  NaN   NaN     NaN   \n",
       "5              0.0     2     no  asphalt         NaN  NaN   NaN     NaN   \n",
       "6              5.0     2     no  asphalt         NaN  NaN   NaN     NaN   \n",
       "7             66.0     4    yes      NaN  designated   no    no      no   \n",
       "8             56.0     3    yes      NaN  designated   no    no      no   \n",
       "9             23.0     3    yes      NaN  designated   no    no      no   \n",
       "\n",
       "  speeding  \n",
       "0      Yes  \n",
       "1       No  \n",
       "2       No  \n",
       "3       No  \n",
       "4       No  \n",
       "5       No  \n",
       "6       No  \n",
       "7      Yes  \n",
       "8       No  \n",
       "9       No  "
      ]
     },
     "execution_count": 4,
     "metadata": {},
     "output_type": "execute_result"
    }
   ],
   "source": [
    "speeding.head(10)"
   ]
  },
  {
   "cell_type": "markdown",
   "id": "469bb3b7-1b02-448b-b0f5-a22fab016c36",
   "metadata": {},
   "source": [
    "OSM tags are sparsly populated. Unfortunately, this means that the dataset has many NaN vlaues. Before analysis, records with null values and duplicate records are removed."
   ]
  },
  {
   "cell_type": "code",
   "execution_count": 5,
   "id": "fd438900-2a99-472a-a89e-825d49e87fa9",
   "metadata": {},
   "outputs": [
    {
     "name": "stdout",
     "output_type": "stream",
     "text": [
      "Row count after null values have been removed:  17662\n"
     ]
    }
   ],
   "source": [
    "speeding.dropna(inplace=True)\n",
    "print('Row count after null values have been removed: ', speeding.shape[0])"
   ]
  },
  {
   "cell_type": "markdown",
   "id": "91ca7298-0037-418d-970f-e43d53c00e10",
   "metadata": {},
   "source": [
    "Many vheicles travel on regular routes or perform work in a limited territory. The dataset originally had a large number of duplicates. These were previously removed to reduce the file size."
   ]
  },
  {
   "cell_type": "markdown",
   "id": "e9b673d2-c2f3-45b0-9acb-1bf6576af639",
   "metadata": {},
   "source": [
    "Reset the dataframe index"
   ]
  },
  {
   "cell_type": "code",
   "execution_count": 6,
   "id": "161bf724-4701-4feb-a04d-b798437418a4",
   "metadata": {},
   "outputs": [
    {
     "data": {
      "text/html": [
       "<div>\n",
       "<style scoped>\n",
       "    .dataframe tbody tr th:only-of-type {\n",
       "        vertical-align: middle;\n",
       "    }\n",
       "\n",
       "    .dataframe tbody tr th {\n",
       "        vertical-align: top;\n",
       "    }\n",
       "\n",
       "    .dataframe thead th {\n",
       "        text-align: right;\n",
       "    }\n",
       "</style>\n",
       "<table border=\"1\" class=\"dataframe\">\n",
       "  <thead>\n",
       "    <tr style=\"text-align: right;\">\n",
       "      <th></th>\n",
       "      <th>normalizedSpeed</th>\n",
       "      <th>lanes</th>\n",
       "      <th>oneway</th>\n",
       "      <th>surface</th>\n",
       "      <th>hgv</th>\n",
       "      <th>foot</th>\n",
       "      <th>horse</th>\n",
       "      <th>bicycle</th>\n",
       "      <th>speeding</th>\n",
       "    </tr>\n",
       "  </thead>\n",
       "  <tbody>\n",
       "    <tr>\n",
       "      <th>0</th>\n",
       "      <td>63.000000</td>\n",
       "      <td>3</td>\n",
       "      <td>yes</td>\n",
       "      <td>asphalt</td>\n",
       "      <td>designated</td>\n",
       "      <td>no</td>\n",
       "      <td>no</td>\n",
       "      <td>no</td>\n",
       "      <td>Yes</td>\n",
       "    </tr>\n",
       "    <tr>\n",
       "      <th>1</th>\n",
       "      <td>45.000000</td>\n",
       "      <td>2</td>\n",
       "      <td>yes</td>\n",
       "      <td>asphalt</td>\n",
       "      <td>designated</td>\n",
       "      <td>no</td>\n",
       "      <td>no</td>\n",
       "      <td>no</td>\n",
       "      <td>No</td>\n",
       "    </tr>\n",
       "    <tr>\n",
       "      <th>2</th>\n",
       "      <td>32.000000</td>\n",
       "      <td>3</td>\n",
       "      <td>yes</td>\n",
       "      <td>asphalt</td>\n",
       "      <td>designated</td>\n",
       "      <td>no</td>\n",
       "      <td>no</td>\n",
       "      <td>no</td>\n",
       "      <td>No</td>\n",
       "    </tr>\n",
       "    <tr>\n",
       "      <th>3</th>\n",
       "      <td>40.000000</td>\n",
       "      <td>3</td>\n",
       "      <td>yes</td>\n",
       "      <td>asphalt</td>\n",
       "      <td>designated</td>\n",
       "      <td>no</td>\n",
       "      <td>no</td>\n",
       "      <td>no</td>\n",
       "      <td>No</td>\n",
       "    </tr>\n",
       "    <tr>\n",
       "      <th>4</th>\n",
       "      <td>47.000000</td>\n",
       "      <td>3</td>\n",
       "      <td>yes</td>\n",
       "      <td>asphalt</td>\n",
       "      <td>designated</td>\n",
       "      <td>no</td>\n",
       "      <td>no</td>\n",
       "      <td>no</td>\n",
       "      <td>Yes</td>\n",
       "    </tr>\n",
       "    <tr>\n",
       "      <th>...</th>\n",
       "      <td>...</td>\n",
       "      <td>...</td>\n",
       "      <td>...</td>\n",
       "      <td>...</td>\n",
       "      <td>...</td>\n",
       "      <td>...</td>\n",
       "      <td>...</td>\n",
       "      <td>...</td>\n",
       "      <td>...</td>\n",
       "    </tr>\n",
       "    <tr>\n",
       "      <th>17657</th>\n",
       "      <td>9.000000</td>\n",
       "      <td>3</td>\n",
       "      <td>yes</td>\n",
       "      <td>concrete</td>\n",
       "      <td>designated</td>\n",
       "      <td>no</td>\n",
       "      <td>no</td>\n",
       "      <td>yes</td>\n",
       "      <td>No</td>\n",
       "    </tr>\n",
       "    <tr>\n",
       "      <th>17658</th>\n",
       "      <td>23.245489</td>\n",
       "      <td>5</td>\n",
       "      <td>yes</td>\n",
       "      <td>asphalt</td>\n",
       "      <td>designated</td>\n",
       "      <td>no</td>\n",
       "      <td>no</td>\n",
       "      <td>no</td>\n",
       "      <td>No</td>\n",
       "    </tr>\n",
       "    <tr>\n",
       "      <th>17659</th>\n",
       "      <td>27.000000</td>\n",
       "      <td>1</td>\n",
       "      <td>yes</td>\n",
       "      <td>asphalt</td>\n",
       "      <td>designated</td>\n",
       "      <td>no</td>\n",
       "      <td>no</td>\n",
       "      <td>no</td>\n",
       "      <td>Yes</td>\n",
       "    </tr>\n",
       "    <tr>\n",
       "      <th>17660</th>\n",
       "      <td>69.737089</td>\n",
       "      <td>4</td>\n",
       "      <td>yes</td>\n",
       "      <td>concrete</td>\n",
       "      <td>designated</td>\n",
       "      <td>no</td>\n",
       "      <td>no</td>\n",
       "      <td>no</td>\n",
       "      <td>No</td>\n",
       "    </tr>\n",
       "    <tr>\n",
       "      <th>17661</th>\n",
       "      <td>3.797570</td>\n",
       "      <td>2</td>\n",
       "      <td>yes</td>\n",
       "      <td>asphalt</td>\n",
       "      <td>designated</td>\n",
       "      <td>no</td>\n",
       "      <td>no</td>\n",
       "      <td>no</td>\n",
       "      <td>No</td>\n",
       "    </tr>\n",
       "  </tbody>\n",
       "</table>\n",
       "<p>17662 rows × 9 columns</p>\n",
       "</div>"
      ],
      "text/plain": [
       "       normalizedSpeed lanes oneway   surface         hgv foot horse bicycle  \\\n",
       "0            63.000000     3    yes   asphalt  designated   no    no      no   \n",
       "1            45.000000     2    yes   asphalt  designated   no    no      no   \n",
       "2            32.000000     3    yes   asphalt  designated   no    no      no   \n",
       "3            40.000000     3    yes   asphalt  designated   no    no      no   \n",
       "4            47.000000     3    yes   asphalt  designated   no    no      no   \n",
       "...                ...   ...    ...       ...         ...  ...   ...     ...   \n",
       "17657         9.000000     3    yes  concrete  designated   no    no     yes   \n",
       "17658        23.245489     5    yes   asphalt  designated   no    no      no   \n",
       "17659        27.000000     1    yes   asphalt  designated   no    no      no   \n",
       "17660        69.737089     4    yes  concrete  designated   no    no      no   \n",
       "17661         3.797570     2    yes   asphalt  designated   no    no      no   \n",
       "\n",
       "      speeding  \n",
       "0          Yes  \n",
       "1           No  \n",
       "2           No  \n",
       "3           No  \n",
       "4          Yes  \n",
       "...        ...  \n",
       "17657       No  \n",
       "17658       No  \n",
       "17659      Yes  \n",
       "17660       No  \n",
       "17661       No  \n",
       "\n",
       "[17662 rows x 9 columns]"
      ]
     },
     "execution_count": 6,
     "metadata": {},
     "output_type": "execute_result"
    }
   ],
   "source": [
    "speeding.reset_index(drop=True)"
   ]
  },
  {
   "cell_type": "code",
   "execution_count": 7,
   "id": "2fac9a8d-4543-4c28-89ca-8a9ed061cecd",
   "metadata": {},
   "outputs": [
    {
     "name": "stdout",
     "output_type": "stream",
     "text": [
      "<class 'pandas.core.frame.DataFrame'>\n",
      "Index: 17662 entries, 53 to 196462\n",
      "Data columns (total 9 columns):\n",
      " #   Column           Non-Null Count  Dtype  \n",
      "---  ------           --------------  -----  \n",
      " 0   normalizedSpeed  17662 non-null  float64\n",
      " 1   lanes            17662 non-null  object \n",
      " 2   oneway           17662 non-null  object \n",
      " 3   surface          17662 non-null  object \n",
      " 4   hgv              17662 non-null  object \n",
      " 5   foot             17662 non-null  object \n",
      " 6   horse            17662 non-null  object \n",
      " 7   bicycle          17662 non-null  object \n",
      " 8   speeding         17662 non-null  object \n",
      "dtypes: float64(1), object(8)\n",
      "memory usage: 1.3+ MB\n"
     ]
    }
   ],
   "source": [
    "speeding.info()"
   ]
  },
  {
   "cell_type": "markdown",
   "id": "ec1fd9a2-e6e7-40c1-8f08-ceeacd22ad6f",
   "metadata": {},
   "source": [
    "### Feature examination"
   ]
  },
  {
   "cell_type": "code",
   "execution_count": 8,
   "id": "fd69369e-e250-4f96-b91e-0106606749a6",
   "metadata": {},
   "outputs": [
    {
     "data": {
      "image/png": "[encoded data removed]",
      "text/plain": [
       "<Figure size 640x480 with 1 Axes>"
      ]
     },
     "metadata": {},
     "output_type": "display_data"
    }
   ],
   "source": [
    "ax = sns.countplot(speeding, x='speeding')\n",
    "ax.set_title('Target Balance')\n",
    "ax.bar_label(ax.containers[0])\n",
    "ax.figure.savefig(\"images/target_balance.png\", bbox_inches='tight');"
   ]
  },
  {
   "cell_type": "markdown",
   "id": "5972acc1-d37c-4309-a16c-aaca8d2c5708",
   "metadata": {},
   "source": [
    "The target is imbalanced with a ratio of nearly 2 to 1 favoring 'No'."
   ]
  },
  {
   "cell_type": "code",
   "execution_count": 9,
   "id": "d3c334a7-abd1-41c3-b205-e0cea327044f",
   "metadata": {},
   "outputs": [
    {
     "data": {
      "image/png": "[encoded data removed]",
      "text/plain": [
       "<Figure size 640x480 with 1 Axes>"
      ]
     },
     "metadata": {},
     "output_type": "display_data"
    }
   ],
   "source": [
    "sns.histplot(data=speeding, x='normalizedSpeed').set_title('Distribution of normalizedSpeed');"
   ]
  },
  {
   "cell_type": "code",
   "execution_count": 10,
   "id": "f1c70419-3b68-4406-ba73-feaa66bb6078",
   "metadata": {},
   "outputs": [
    {
     "data": {
      "image/png": "[encoded data removed]",
      "text/plain": [
       "<Figure size 640x480 with 1 Axes>"
      ]
     },
     "metadata": {},
     "output_type": "display_data"
    }
   ],
   "source": [
    "ax = sns.countplot(speeding, x=\"lanes\", hue='speeding', order=sorted(speeding['lanes'].astype('float').astype('int').unique().tolist(), key=int))\n",
    "ax.set_title('Values and Frequency of lanes Feature')\n",
    "ax.bar_label(ax.containers[0], fontsize=6)\n",
    "ax.bar_label(ax.containers[1], fontsize=6);"
   ]
  },
  {
   "cell_type": "markdown",
   "id": "364ce92f-ee20-44fb-8919-2a372b129f49",
   "metadata": {},
   "source": [
    "The feature 'lanes' appears to contain meaningful information. Some labels show an imbalence similar to the target, but the balance between 'yes' and 'no' gets more even for roads with more lanes. This could be due to a tendancy to speed on wider roads with more opportunity to safely pass."
   ]
  },
  {
   "cell_type": "code",
   "execution_count": 11,
   "id": "863446a6-2ccf-4590-bec0-106450c5b5ce",
   "metadata": {},
   "outputs": [
    {
     "data": {
      "image/png": "[encoded data removed]",
      "text/plain": [
       "<Figure size 640x480 with 1 Axes>"
      ]
     },
     "metadata": {},
     "output_type": "display_data"
    }
   ],
   "source": [
    "ax = sns.countplot(speeding, x=\"oneway\", hue='speeding')\n",
    "ax.set_title('Values and Frequency of oneway Feature')\n",
    "ax.bar_label(ax.containers[0])\n",
    "ax.bar_label(ax.containers[1]);"
   ]
  },
  {
   "cell_type": "markdown",
   "id": "f4d76d90-5b44-4dce-8385-64a287ab00b3",
   "metadata": {},
   "source": [
    "The value '-1' is equivalent to 'reversible'. The records with oneway='-1' will be converted to oneway='reversible'."
   ]
  },
  {
   "cell_type": "code",
   "execution_count": 12,
   "id": "51193932",
   "metadata": {},
   "outputs": [
    {
     "data": {
      "image/png": "[encoded data removed]",
      "text/plain": [
       "<Figure size 640x480 with 1 Axes>"
      ]
     },
     "metadata": {},
     "output_type": "display_data"
    }
   ],
   "source": [
    "ax = sns.countplot(speeding, x=\"surface\", hue='speeding')\n",
    "ax.set_title('Values and Frequency of surface Feature')\n",
    "ax.bar_label(ax.containers[0])\n",
    "ax.bar_label(ax.containers[1]);"
   ]
  },
  {
   "cell_type": "markdown",
   "id": "7aa2b8a8-7666-4e0f-8d4c-396c4bf5a764",
   "metadata": {},
   "source": [
    "The feature 'surface' shows a tendancy to speed on paved and concrete roads."
   ]
  },
  {
   "cell_type": "code",
   "execution_count": 13,
   "id": "1efd7536",
   "metadata": {},
   "outputs": [
    {
     "data": {
      "image/png": "[encoded data removed]",
      "text/plain": [
       "<Figure size 640x480 with 1 Axes>"
      ]
     },
     "metadata": {},
     "output_type": "display_data"
    }
   ],
   "source": [
    "ax = sns.countplot(speeding, x=\"hgv\", hue='speeding')\n",
    "ax.set_title('Values and Frequency of hgv Feature')\n",
    "ax.bar_label(ax.containers[0])\n",
    "ax.bar_label(ax.containers[1]);"
   ]
  },
  {
   "cell_type": "code",
   "execution_count": 14,
   "id": "b7de7d48",
   "metadata": {},
   "outputs": [
    {
     "data": {
      "image/png": "[encoded data removed]",
      "text/plain": [
       "<Figure size 640x480 with 1 Axes>"
      ]
     },
     "metadata": {},
     "output_type": "display_data"
    }
   ],
   "source": [
    "ax = sns.countplot(speeding, x=\"foot\", hue='speeding')\n",
    "ax.set_title('Values and Frequency of foot Feature')\n",
    "ax.bar_label(ax.containers[0])\n",
    "ax.bar_label(ax.containers[1]);"
   ]
  },
  {
   "cell_type": "code",
   "execution_count": 15,
   "id": "663de254",
   "metadata": {},
   "outputs": [
    {
     "data": {
      "image/png": "[encoded data removed]",
      "text/plain": [
       "<Figure size 640x480 with 1 Axes>"
      ]
     },
     "metadata": {},
     "output_type": "display_data"
    }
   ],
   "source": [
    "ax = sns.countplot(speeding, x=\"horse\", hue='speeding')\n",
    "ax.set_title('Values and Frequency of horse Feature')\n",
    "ax.bar_label(ax.containers[0])\n",
    "ax.bar_label(ax.containers[1]);"
   ]
  },
  {
   "cell_type": "markdown",
   "id": "6fe17903-b479-47f5-99b7-532d1e006b73",
   "metadata": {},
   "source": [
    "The value 'no '' is likely a typo. It will be converted to 'no'."
   ]
  },
  {
   "cell_type": "code",
   "execution_count": 16,
   "id": "bf4a6679",
   "metadata": {},
   "outputs": [
    {
     "data": {
      "image/png": "[encoded data removed]",
      "text/plain": [
       "<Figure size 640x480 with 1 Axes>"
      ]
     },
     "metadata": {},
     "output_type": "display_data"
    }
   ],
   "source": [
    "ax = sns.countplot(speeding, x=\"bicycle\", hue='speeding')\n",
    "ax.set_title('Values and Frequency of bicycle Feature')\n",
    "ax.bar_label(ax.containers[0])\n",
    "ax.bar_label(ax.containers[1]);"
   ]
  },
  {
   "cell_type": "markdown",
   "id": "77dc0497-52c8-42f9-a347-205abe762f8f",
   "metadata": {},
   "source": [
    "The features 'foot', 'horse', and 'bicycle' are all yes/no features which are all imbalanced favoring 'no'. However, the target balance for each feature show that they could contain meaningful informations as a group."
   ]
  },
  {
   "cell_type": "markdown",
   "id": "2537682a-8d05-436a-8e3f-e5ce449f93d0",
   "metadata": {},
   "source": [
    "Data preparation:\n",
    "- 'lanes' will be cast from an object to a numerical feature\n",
    "- 'oneway' will have the values '-1' changed to 'reversible'\n",
    "- 'horse' will have the value 'no '' converted to 'no'\n",
    "- the features 'oneway', 'surface', and 'hgv' will be converted to numerical features using one-hot encoding\n",
    "- the features 'foot', 'horse', and 'bicycle' will be converted to numerical features using binary encoding"
   ]
  },
  {
   "cell_type": "markdown",
   "id": "7f418ac9-5080-4eb4-9531-3b944f064c61",
   "metadata": {},
   "source": [
    "### Data Cleaning"
   ]
  },
  {
   "cell_type": "markdown",
   "id": "04e896f8-504c-4704-9581-6326b131c015",
   "metadata": {},
   "source": [
    "Convert the 'lanes' feature to numeric"
   ]
  },
  {
   "cell_type": "code",
   "execution_count": 17,
   "id": "7522b5f9-b69f-4478-aa87-e3dde9cbe71b",
   "metadata": {},
   "outputs": [],
   "source": [
    "speeding['lanes'] = speeding['lanes'].astype('float').astype('int32')"
   ]
  },
  {
   "cell_type": "markdown",
   "id": "91ca3a45-01c8-4374-a9fb-8aab6c8337c8",
   "metadata": {},
   "source": [
    "Remove odd values from the features 'oneway' and 'horse'"
   ]
  },
  {
   "cell_type": "code",
   "execution_count": 18,
   "id": "940a1836-1ce7-4940-b8da-678fd708c3cb",
   "metadata": {},
   "outputs": [],
   "source": [
    "speeding.loc[speeding['oneway'] == '-1', 'oneway'] = 'reversible'"
   ]
  },
  {
   "cell_type": "code",
   "execution_count": 19,
   "id": "f1e76002-510d-4389-82c4-0254383cacc9",
   "metadata": {},
   "outputs": [],
   "source": [
    "speeding.loc[speeding['horse'] == \"no '\", 'horse'] = 'no'"
   ]
  },
  {
   "cell_type": "markdown",
   "id": "8f91265b-cab2-4945-9b8d-0b951f6d053f",
   "metadata": {},
   "source": [
    "Change the fields 'surface', 'hgv', and 'oneway' to numberical fields using one hot encoding"
   ]
  },
  {
   "cell_type": "code",
   "execution_count": 20,
   "id": "1345afc1-2fbe-4d03-9230-dc4ab56f4c23",
   "metadata": {},
   "outputs": [],
   "source": [
    "speeding = pd.get_dummies(speeding, columns = ['surface', 'hgv', 'oneway'], dtype=int)"
   ]
  },
  {
   "cell_type": "markdown",
   "id": "8eeb0ea2-8d70-4202-ab43-00bf72dc01ca",
   "metadata": {},
   "source": [
    "Change the fields 'foot', 'horse', and 'bicycle' to numberical fields using binary values"
   ]
  },
  {
   "cell_type": "code",
   "execution_count": 21,
   "id": "37dcaf21-1809-4b5a-817b-c62e9f4603fd",
   "metadata": {},
   "outputs": [],
   "source": [
    "speeding['foot'] = pd.Series(np.where(speeding.foot.values == 'yes', 1, 0), speeding.index)"
   ]
  },
  {
   "cell_type": "code",
   "execution_count": 22,
   "id": "510f23d3-cb54-4d51-acd3-d1971126a0eb",
   "metadata": {},
   "outputs": [],
   "source": [
    "speeding['horse'] = pd.Series(np.where(speeding.horse.values == 'yes', 1, 0), speeding.index)"
   ]
  },
  {
   "cell_type": "code",
   "execution_count": 23,
   "id": "047ab7a2",
   "metadata": {},
   "outputs": [],
   "source": [
    "speeding['bicycle'] = pd.Series(np.where(speeding.bicycle.values == 'yes', 1, 0), speeding.index)"
   ]
  },
  {
   "cell_type": "code",
   "execution_count": 24,
   "id": "40193c9d-611c-4e1e-82e4-26ce7659e823",
   "metadata": {},
   "outputs": [
    {
     "name": "stdout",
     "output_type": "stream",
     "text": [
      "<class 'pandas.core.frame.DataFrame'>\n",
      "Index: 17662 entries, 53 to 196462\n",
      "Data columns (total 17 columns):\n",
      " #   Column                   Non-Null Count  Dtype  \n",
      "---  ------                   --------------  -----  \n",
      " 0   normalizedSpeed          17662 non-null  float64\n",
      " 1   lanes                    17662 non-null  int32  \n",
      " 2   foot                     17662 non-null  int32  \n",
      " 3   horse                    17662 non-null  int32  \n",
      " 4   bicycle                  17662 non-null  int32  \n",
      " 5   speeding                 17662 non-null  object \n",
      " 6   surface_asphalt          17662 non-null  int32  \n",
      " 7   surface_concrete         17662 non-null  int32  \n",
      " 8   surface_concrete:plates  17662 non-null  int32  \n",
      " 9   surface_paved            17662 non-null  int32  \n",
      " 10  hgv_designated           17662 non-null  int32  \n",
      " 11  hgv_local                17662 non-null  int32  \n",
      " 12  hgv_no                   17662 non-null  int32  \n",
      " 13  hgv_yes                  17662 non-null  int32  \n",
      " 14  oneway_no                17662 non-null  int32  \n",
      " 15  oneway_reversible        17662 non-null  int32  \n",
      " 16  oneway_yes               17662 non-null  int32  \n",
      "dtypes: float64(1), int32(15), object(1)\n",
      "memory usage: 1.4+ MB\n"
     ]
    }
   ],
   "source": [
    "speeding.info()"
   ]
  },
  {
   "cell_type": "markdown",
   "id": "0cfd67ae-045f-4846-9f1e-f3606459e307",
   "metadata": {},
   "source": [
    "#### Separating the target and features"
   ]
  },
  {
   "cell_type": "code",
   "execution_count": 25,
   "id": "1ead1c4f",
   "metadata": {},
   "outputs": [],
   "source": [
    "y = speeding['speeding']\n",
    "X = speeding.drop('speeding', axis=1)"
   ]
  },
  {
   "cell_type": "markdown",
   "id": "c9bf8234-e9e5-47d9-bebf-4bb455b04dde",
   "metadata": {},
   "source": [
    "#### Spliting the data into training and test sets"
   ]
  },
  {
   "cell_type": "code",
   "execution_count": 26,
   "id": "c1bd3451",
   "metadata": {},
   "outputs": [],
   "source": [
    "X_train, X_test, y_train, y_test = train_test_split(X, y, random_state=42)"
   ]
  },
  {
   "cell_type": "code",
   "execution_count": null,
   "id": "6ca8fd6b-c250-4a32-9030-6ab75539c2b4",
   "metadata": {},
   "outputs": [],
   "source": []
  },
  {
   "cell_type": "markdown",
   "id": "3be67b20-0d73-4854-a94b-38b74989151b",
   "metadata": {},
   "source": [
    "## 4. Data Modeling"
   ]
  },
  {
   "cell_type": "markdown",
   "id": "03d991b0-4abe-4571-9e82-85cfcefd1d22",
   "metadata": {},
   "source": [
    "### Methodology"
   ]
  },
  {
   "cell_type": "markdown",
   "id": "5317a1a1-4701-4e6c-bc59-480d31c333f2",
   "metadata": {},
   "source": [
    "This project will compare four classifiers:\n",
    "- Logistic Regression\n",
    "- K-Nearest Neighbors\n",
    "- Decision Tree\n",
    "- Support Vecor Machine\n",
    "\n",
    "A baseline will be set using DummyClassifier and LogisticRegression with default settings. Further modeling will use the classifiers above with default parameters. Light hyperparameter tuning will be done using grid search. \n",
    "Future work will include more thorough hyper parameter tuning with different scoring metrics."
   ]
  },
  {
   "cell_type": "markdown",
   "id": "8a6b648f-4ece-48e0-8bcd-0785a183a937",
   "metadata": {},
   "source": [
    "#### Establish baseline scores"
   ]
  },
  {
   "cell_type": "markdown",
   "id": "605c2584-6ddb-4dbb-bf0a-4b4724938ba4",
   "metadata": {},
   "source": [
    "Using DummyClassifier"
   ]
  },
  {
   "cell_type": "code",
   "execution_count": 27,
   "id": "3509c289",
   "metadata": {},
   "outputs": [],
   "source": [
    "dummy_start_time_ms = round(time.time() * 1000)\n",
    "dummy_clf = DummyClassifier(random_state=42).fit(X_train, y_train)\n",
    "dummy_end_time_ms = round(time.time() * 1000)"
   ]
  },
  {
   "cell_type": "code",
   "execution_count": 28,
   "id": "c2f5ab3b",
   "metadata": {},
   "outputs": [],
   "source": [
    "baseline_train_time = dummy_end_time_ms - dummy_start_time_ms\n",
    "baseline_train_score = dummy_clf.score(X_train, y_train)\n",
    "baseline_test_score = dummy_clf.score(X_test, y_test)"
   ]
  },
  {
   "cell_type": "code",
   "execution_count": null,
   "id": "964aea6f",
   "metadata": {},
   "outputs": [],
   "source": []
  },
  {
   "cell_type": "markdown",
   "id": "34724748-8982-4cee-b2fa-0a83b6d2d350",
   "metadata": {},
   "source": [
    "Using LogisticRegression"
   ]
  },
  {
   "cell_type": "code",
   "execution_count": 29,
   "id": "d5c51a41",
   "metadata": {},
   "outputs": [],
   "source": [
    "simple_lgr_start_time_ms = round(time.time() * 1000)\n",
    "simple_lgr_pipe = Pipeline([\n",
    "    ('scale', StandardScaler()),\n",
    "    ('lgr', LogisticRegression(random_state=42))]).fit(X_train, y_train)\n",
    "simple_lgr_end_time_ms = round(time.time() * 1000)"
   ]
  },
  {
   "cell_type": "code",
   "execution_count": 30,
   "id": "c97a7141",
   "metadata": {},
   "outputs": [],
   "source": [
    "simple_lgr_train_time = simple_lgr_end_time_ms - simple_lgr_start_time_ms\n",
    "simple_lgr_train_score = simple_lgr_pipe.score(X_train, y_train)\n",
    "simple_lgr_test_score = simple_lgr_pipe.score(X_test, y_test)"
   ]
  },
  {
   "cell_type": "code",
   "execution_count": null,
   "id": "03e2185c",
   "metadata": {},
   "outputs": [],
   "source": []
  },
  {
   "cell_type": "markdown",
   "id": "fa1fd214-36ff-4dfb-8709-41c1c973286b",
   "metadata": {},
   "source": [
    "Basline scores"
   ]
  },
  {
   "cell_type": "code",
   "execution_count": 31,
   "id": "b0fcfb86",
   "metadata": {},
   "outputs": [
    {
     "name": "stdout",
     "output_type": "stream",
     "text": [
      "Basline Classifier: Train Time is 4 ms, Train Accuracy is 0.6218 , Test Accuracy is 0.6415\n"
     ]
    }
   ],
   "source": [
    "print('Basline Classifier: Train Time is', baseline_train_time, 'ms,', \\\n",
    "      'Train Accuracy is', round(baseline_train_score, 4), ',', \\\n",
    "      'Test Accuracy is', round(baseline_test_score, 4))"
   ]
  },
  {
   "cell_type": "code",
   "execution_count": 32,
   "id": "2c06dff5",
   "metadata": {},
   "outputs": [
    {
     "name": "stdout",
     "output_type": "stream",
     "text": [
      "Simple Model: Train Time is 31 ms, Train Accuracy is 0.7814 , Test Accuracy is 0.7867\n"
     ]
    }
   ],
   "source": [
    "print('Simple Model: Train Time is', simple_lgr_train_time, 'ms,', \\\n",
    "      'Train Accuracy is', round(simple_lgr_train_score, 4), ',', \\\n",
    "      'Test Accuracy is', round(simple_lgr_test_score, 4))"
   ]
  },
  {
   "cell_type": "code",
   "execution_count": null,
   "id": "ea06fb80",
   "metadata": {},
   "outputs": [],
   "source": []
  },
  {
   "cell_type": "markdown",
   "id": "316a8551-4adb-4f13-ab09-f71a9dabfff4",
   "metadata": {},
   "source": [
    "#### Support functions to get and score metrics"
   ]
  },
  {
   "cell_type": "code",
   "execution_count": 33,
   "id": "024588c9",
   "metadata": {},
   "outputs": [],
   "source": [
    "def getMetrics(model, start_time_ms, end_time_ms):\n",
    "    train_time = round(end_time_ms - start_time_ms)\n",
    "    train_score = round(model.score(X_train, y_train), 4)\n",
    "    test_score = round(model.score(X_test, y_test), 4)\n",
    "    return [train_time, train_score, test_score]"
   ]
  },
  {
   "cell_type": "code",
   "execution_count": 34,
   "id": "0d8287aa",
   "metadata": {},
   "outputs": [],
   "source": [
    "def printMetrics(train_time, train_score, test_score):\n",
    "    print('Train Time is', train_time, 'ms,', \\\n",
    "      'Train Accuracy is', train_score, ',', \\\n",
    "      'Test Accuracy is', test_score)"
   ]
  },
  {
   "cell_type": "code",
   "execution_count": null,
   "id": "412ecbee",
   "metadata": {},
   "outputs": [],
   "source": []
  },
  {
   "cell_type": "markdown",
   "id": "edc2b555-0240-4e96-86d2-37af4eb3d326",
   "metadata": {},
   "source": [
    "#### Modeling with default values"
   ]
  },
  {
   "cell_type": "markdown",
   "id": "9c4f1928-12af-494a-9c5e-7e611c8cba00",
   "metadata": {},
   "source": [
    "Logistic Regression"
   ]
  },
  {
   "cell_type": "code",
   "execution_count": 35,
   "id": "72462f14",
   "metadata": {},
   "outputs": [],
   "source": [
    "lgr_start_time_ms = round(time.time() * 1000) \n",
    "default_lgr = LogisticRegression(random_state=42, max_iter=1000).fit(X_train, y_train)\n",
    "lgr_end_time_ms = round(time.time() * 1000)"
   ]
  },
  {
   "cell_type": "code",
   "execution_count": 36,
   "id": "eddd2e6f",
   "metadata": {},
   "outputs": [
    {
     "name": "stdout",
     "output_type": "stream",
     "text": [
      "Logistic Regression:\n",
      "Train Time is 579 ms, Train Accuracy is 0.7817 , Test Accuracy is 0.7858\n"
     ]
    }
   ],
   "source": [
    "default_lgr_metrics = getMetrics(default_lgr, lgr_start_time_ms, lgr_end_time_ms)\n",
    "print('Logistic Regression:')\n",
    "printMetrics(*default_lgr_metrics)"
   ]
  },
  {
   "cell_type": "code",
   "execution_count": null,
   "id": "27c57517",
   "metadata": {},
   "outputs": [],
   "source": []
  },
  {
   "cell_type": "markdown",
   "id": "55888dff-fb18-45fe-9cf6-73504d89e391",
   "metadata": {},
   "source": [
    "K-Nearest Neighbor"
   ]
  },
  {
   "cell_type": "code",
   "execution_count": 37,
   "id": "06db15d0",
   "metadata": {},
   "outputs": [],
   "source": [
    "knn_start_time_ms = round(time.time() * 1000) \n",
    "default_knn = KNeighborsClassifier().fit(X_train, y_train)\n",
    "knn_end_time_ms = round(time.time() * 1000)"
   ]
  },
  {
   "cell_type": "code",
   "execution_count": 38,
   "id": "256f1c38",
   "metadata": {},
   "outputs": [
    {
     "name": "stdout",
     "output_type": "stream",
     "text": [
      "K-Neighbors:\n",
      "Train Time is 10 ms, Train Accuracy is 0.8376 , Test Accuracy is 0.7525\n"
     ]
    }
   ],
   "source": [
    "default_knn_metrics = getMetrics(default_knn, knn_start_time_ms, knn_end_time_ms)\n",
    "print('K-Neighbors:')\n",
    "printMetrics(*default_knn_metrics)"
   ]
  },
  {
   "cell_type": "code",
   "execution_count": null,
   "id": "e3dfb64a",
   "metadata": {},
   "outputs": [],
   "source": []
  },
  {
   "cell_type": "markdown",
   "id": "6fc6b37b-9aa7-4cea-a70d-d175e3c482a0",
   "metadata": {},
   "source": [
    "Decision Tree"
   ]
  },
  {
   "cell_type": "code",
   "execution_count": 39,
   "id": "85d66d5c",
   "metadata": {},
   "outputs": [],
   "source": [
    "dtc_start_time_ms = round(time.time() * 1000) \n",
    "default_dtc = DecisionTreeClassifier(random_state=42).fit(X_train, y_train)\n",
    "dtc_end_time_ms = round(time.time() * 1000)"
   ]
  },
  {
   "cell_type": "code",
   "execution_count": 40,
   "id": "a26587e5",
   "metadata": {},
   "outputs": [
    {
     "name": "stdout",
     "output_type": "stream",
     "text": [
      "Decision Tree: Train Time is\n",
      "Train Time is 33 ms, Train Accuracy is 0.8658 , Test Accuracy is 0.7043\n"
     ]
    }
   ],
   "source": [
    "default_dtc_metrics = getMetrics(default_dtc, dtc_start_time_ms, dtc_end_time_ms)\n",
    "print('Decision Tree: Train Time is')\n",
    "printMetrics(*default_dtc_metrics)"
   ]
  },
  {
   "cell_type": "code",
   "execution_count": null,
   "id": "c1aaff2e-34ef-42f6-bf88-fa053edc607a",
   "metadata": {},
   "outputs": [],
   "source": []
  },
  {
   "cell_type": "markdown",
   "id": "4bdebd29-d13b-467c-a274-9b5ab6ead34c",
   "metadata": {},
   "source": [
    "Support Vector Classifier"
   ]
  },
  {
   "cell_type": "code",
   "execution_count": 41,
   "id": "ec00695c",
   "metadata": {},
   "outputs": [],
   "source": [
    "svc_start_time_ms = round(time.time() * 1000) \n",
    "default_svc = SVC(random_state=42).fit(X_train, y_train)\n",
    "svc_end_time_ms = round(time.time() * 1000)"
   ]
  },
  {
   "cell_type": "code",
   "execution_count": 42,
   "id": "4f855f44",
   "metadata": {},
   "outputs": [
    {
     "name": "stdout",
     "output_type": "stream",
     "text": [
      "Support Vector Machine:\n",
      "Train Time is 3990 ms, Train Accuracy is 0.7812 , Test Accuracy is 0.7899\n"
     ]
    }
   ],
   "source": [
    "default_svc_metrics = getMetrics(default_svc, svc_start_time_ms, svc_end_time_ms)\n",
    "print('Support Vector Machine:')\n",
    "printMetrics(*default_svc_metrics)"
   ]
  },
  {
   "cell_type": "code",
   "execution_count": null,
   "id": "9c22e066",
   "metadata": {},
   "outputs": [],
   "source": []
  },
  {
   "cell_type": "markdown",
   "id": "a2d82deb-8289-487e-8678-6a4501f86f89",
   "metadata": {},
   "source": [
    "Default Model Results"
   ]
  },
  {
   "cell_type": "code",
   "execution_count": 43,
   "id": "4e7cf8c0",
   "metadata": {},
   "outputs": [
    {
     "data": {
      "text/html": [
       "<div>\n",
       "<style scoped>\n",
       "    .dataframe tbody tr th:only-of-type {\n",
       "        vertical-align: middle;\n",
       "    }\n",
       "\n",
       "    .dataframe tbody tr th {\n",
       "        vertical-align: top;\n",
       "    }\n",
       "\n",
       "    .dataframe thead th {\n",
       "        text-align: right;\n",
       "    }\n",
       "</style>\n",
       "<table border=\"1\" class=\"dataframe\">\n",
       "  <thead>\n",
       "    <tr style=\"text-align: right;\">\n",
       "      <th></th>\n",
       "      <th>Train Time (ms)</th>\n",
       "      <th>Train Accuracy</th>\n",
       "      <th>Test Accuracy</th>\n",
       "    </tr>\n",
       "  </thead>\n",
       "  <tbody>\n",
       "    <tr>\n",
       "      <th>Logistic Regression</th>\n",
       "      <td>579.0</td>\n",
       "      <td>0.7817</td>\n",
       "      <td>0.7858</td>\n",
       "    </tr>\n",
       "    <tr>\n",
       "      <th>K-Nearest Neighbors</th>\n",
       "      <td>10.0</td>\n",
       "      <td>0.8376</td>\n",
       "      <td>0.7525</td>\n",
       "    </tr>\n",
       "    <tr>\n",
       "      <th>Decision Tree</th>\n",
       "      <td>33.0</td>\n",
       "      <td>0.8658</td>\n",
       "      <td>0.7043</td>\n",
       "    </tr>\n",
       "    <tr>\n",
       "      <th>Support Vector Machine</th>\n",
       "      <td>3990.0</td>\n",
       "      <td>0.7812</td>\n",
       "      <td>0.7899</td>\n",
       "    </tr>\n",
       "  </tbody>\n",
       "</table>\n",
       "</div>"
      ],
      "text/plain": [
       "                        Train Time (ms)  Train Accuracy  Test Accuracy\n",
       "Logistic Regression               579.0          0.7817         0.7858\n",
       "K-Nearest Neighbors                10.0          0.8376         0.7525\n",
       "Decision Tree                      33.0          0.8658         0.7043\n",
       "Support Vector Machine           3990.0          0.7812         0.7899"
      ]
     },
     "execution_count": 43,
     "metadata": {},
     "output_type": "execute_result"
    }
   ],
   "source": [
    "metric_columns = ['Train Time (ms)', 'Train Accuracy', 'Test Accuracy']\n",
    "default_results = pd.DataFrame({ \n",
    "        'Logistic Regression': pd.Series(default_lgr_metrics, index=metric_columns), \n",
    "        'K-Nearest Neighbors': pd.Series(default_knn_metrics, index=metric_columns), \n",
    "        'Decision Tree': pd.Series(default_dtc_metrics, index=metric_columns),\n",
    "        'Support Vector Machine': pd.Series(default_svc_metrics, index=metric_columns)}).T\n",
    "default_results"
   ]
  },
  {
   "cell_type": "markdown",
   "id": "9f803019-0e7e-4a6e-ab23-c7b7960608d0",
   "metadata": {},
   "source": [
    "Logistic regression and SVC had very close scores, but the train time for logistic regression was much faster."
   ]
  },
  {
   "cell_type": "code",
   "execution_count": null,
   "id": "49a63bed",
   "metadata": {},
   "outputs": [],
   "source": []
  },
  {
   "cell_type": "markdown",
   "id": "56e3387c-9165-448e-add2-6bf889ca82ac",
   "metadata": {},
   "source": [
    "#### Modeling with Light Grid Search"
   ]
  },
  {
   "cell_type": "markdown",
   "id": "fb156aec-a7f9-4b87-bf5f-0d5981d704d3",
   "metadata": {},
   "source": [
    "Logistic Regression"
   ]
  },
  {
   "cell_type": "code",
   "execution_count": 44,
   "id": "ea6990b7-ee81-497b-899e-6028ec1fa44c",
   "metadata": {},
   "outputs": [],
   "source": [
    "params = {\n",
    "    'C': [0.1, 1, 10],\n",
    "    'solver': ['lbfgs','newton-cholesky']    \n",
    "}\n",
    "tuned_lgr = GridSearchCV(LogisticRegression(random_state=42, max_iter=1000), params, cv=5, scoring='accuracy').fit(X_train, y_train)"
   ]
  },
  {
   "cell_type": "code",
   "execution_count": 45,
   "id": "ba8ad707-10ab-4471-862e-0e261e215144",
   "metadata": {},
   "outputs": [
    {
     "name": "stdout",
     "output_type": "stream",
     "text": [
      "Best parameters:\n",
      "{'C': 1, 'solver': 'newton-cholesky'}\n"
     ]
    }
   ],
   "source": [
    "print('Best parameters:')\n",
    "print(tuned_lgr.best_params_)"
   ]
  },
  {
   "cell_type": "code",
   "execution_count": 46,
   "id": "e5715a56-4acc-4092-9a03-22957c982d4a",
   "metadata": {},
   "outputs": [],
   "source": [
    "tuned_lgr_start_time_ms = round(time.time() * 1000) \n",
    "tuned_lgr.best_estimator_.fit(X_train, y_train)\n",
    "tuned_lgr_end_time_ms = round(time.time() * 1000)"
   ]
  },
  {
   "cell_type": "code",
   "execution_count": 47,
   "id": "08656a53-fb10-483f-814b-a1addcb41abf",
   "metadata": {},
   "outputs": [
    {
     "name": "stdout",
     "output_type": "stream",
     "text": [
      "Train Time is 36 ms, Train Accuracy is 0.7817 , Test Accuracy is 0.7862\n"
     ]
    }
   ],
   "source": [
    "lgr_y_pred = tuned_lgr.predict(X_test)\n",
    "tuned_lgr_train_time = round(tuned_lgr_end_time_ms - tuned_lgr_start_time_ms)\n",
    "tuned_lgr_train_score = round(tuned_lgr.score(X_train, y_train), 4)\n",
    "tuned_lgr_test_score = round(accuracy_score(y_test, lgr_y_pred), 4)\n",
    "printMetrics(tuned_lgr_train_time, tuned_lgr_train_score, tuned_lgr_test_score)"
   ]
  },
  {
   "cell_type": "code",
   "execution_count": null,
   "id": "0b7fd46e-6649-47d3-9d48-fbad31821763",
   "metadata": {},
   "outputs": [],
   "source": []
  },
  {
   "cell_type": "markdown",
   "id": "c34ef305-0077-4ab6-84db-dfacce793ad3",
   "metadata": {},
   "source": [
    "K-Nearest Neighbor"
   ]
  },
  {
   "cell_type": "code",
   "execution_count": 48,
   "id": "5da70209-83ac-4560-a96a-a0240d30814f",
   "metadata": {},
   "outputs": [],
   "source": [
    "params = {'n_neighbors': [1, 2, 5, 10],\n",
    "           'metric': ['euclidean', 'minkowski']\n",
    "}\n",
    "gscv_knn = GridSearchCV(KNeighborsClassifier(), params, cv=5, scoring='accuracy').fit(X_train, y_train)"
   ]
  },
  {
   "cell_type": "code",
   "execution_count": 49,
   "id": "ed19f6e5-3073-45eb-88c6-4db7e176d66a",
   "metadata": {},
   "outputs": [
    {
     "name": "stdout",
     "output_type": "stream",
     "text": [
      "Best parameters:\n",
      "{'metric': 'euclidean', 'n_neighbors': 10}\n"
     ]
    }
   ],
   "source": [
    "print('Best parameters:')\n",
    "print(gscv_knn.best_params_)"
   ]
  },
  {
   "cell_type": "code",
   "execution_count": 50,
   "id": "15109019-fba7-49d8-a188-42d1dda13f43",
   "metadata": {},
   "outputs": [],
   "source": [
    "tuned_knn_start_time_ms = round(time.time() * 1000) \n",
    "gscv_knn.best_estimator_.fit(X_train, y_train)\n",
    "tuned_knn_end_time_ms = round(time.time() * 1000)"
   ]
  },
  {
   "cell_type": "code",
   "execution_count": 51,
   "id": "915b854c-c8c0-4133-aee7-5afa0e62b56e",
   "metadata": {},
   "outputs": [
    {
     "name": "stdout",
     "output_type": "stream",
     "text": [
      "Train Time is 12 ms, Train Accuracy is 0.8251 , Test Accuracy is 0.7769\n"
     ]
    }
   ],
   "source": [
    "knn_y_pred = gscv_knn.predict(X_test)\n",
    "tuned_knn_train_time = round(tuned_knn_end_time_ms - tuned_knn_start_time_ms)\n",
    "tuned_knn_train_score = round(gscv_knn.score(X_train, y_train), 4)\n",
    "tuned_knn_test_score = round(accuracy_score(y_test, knn_y_pred), 4)\n",
    "printMetrics(tuned_knn_train_time, tuned_knn_train_score, tuned_knn_test_score)"
   ]
  },
  {
   "cell_type": "code",
   "execution_count": null,
   "id": "bac51243-0b58-426b-ac69-ea1496b25693",
   "metadata": {},
   "outputs": [],
   "source": []
  },
  {
   "cell_type": "markdown",
   "id": "2e8267d0-c39c-4820-bcaa-aef22a076a00",
   "metadata": {},
   "source": [
    "Decision Tree"
   ]
  },
  {
   "cell_type": "code",
   "execution_count": 52,
   "id": "60b430b1-eadf-4213-808e-b8a282ea62f5",
   "metadata": {},
   "outputs": [],
   "source": [
    "params =  {'criterion': [\"gini\", \"entropy\"],\n",
    "    'max_depth': [5, 15, None],\n",
    "    'min_samples_split': [5, 50, 200],\n",
    "    'min_samples_leaf': [1, 5]\n",
    "}\n",
    "tuned_dtc = GridSearchCV(DecisionTreeClassifier(random_state=42), params, cv=5, scoring='accuracy').fit(X_train, y_train)"
   ]
  },
  {
   "cell_type": "code",
   "execution_count": 53,
   "id": "e3e2fe3a-3ec7-4eb3-a45c-f1a8e98afca3",
   "metadata": {},
   "outputs": [
    {
     "name": "stdout",
     "output_type": "stream",
     "text": [
      "{'criterion': 'entropy', 'max_depth': 5, 'min_samples_leaf': 5, 'min_samples_split': 5}\n"
     ]
    }
   ],
   "source": [
    "print(tuned_dtc.best_params_)"
   ]
  },
  {
   "cell_type": "code",
   "execution_count": 54,
   "id": "423d278b-8d4e-4166-a604-698a93122071",
   "metadata": {},
   "outputs": [],
   "source": [
    "tuned_dtc_start_time_ms = round(time.time() * 1000) \n",
    "tuned_dtc.best_estimator_.fit(X_train, y_train)\n",
    "tuned_dtc_end_time_ms = round(time.time() * 1000)"
   ]
  },
  {
   "cell_type": "code",
   "execution_count": 55,
   "id": "f0b953a6-1262-4141-b9e6-5618ff93f84f",
   "metadata": {},
   "outputs": [
    {
     "name": "stdout",
     "output_type": "stream",
     "text": [
      "Train Time is 21 ms, Train Accuracy is 0.798 , Test Accuracy is 0.8034\n"
     ]
    }
   ],
   "source": [
    "dtc_y_pred = tuned_dtc.predict(X_test)\n",
    "tuned_dtc_train_time = round(tuned_dtc_end_time_ms - tuned_dtc_start_time_ms)\n",
    "tuned_dtc_train_score = round(tuned_dtc.score(X_train, y_train), 4)\n",
    "tuned_dtc_test_score = round(accuracy_score(y_test, dtc_y_pred), 4)\n",
    "printMetrics(tuned_dtc_train_time, tuned_dtc_train_score, tuned_dtc_test_score)"
   ]
  },
  {
   "cell_type": "code",
   "execution_count": null,
   "id": "e43ac88c-37d4-43a7-a640-62129bf55668",
   "metadata": {},
   "outputs": [],
   "source": []
  },
  {
   "cell_type": "markdown",
   "id": "511e95d8-e6e8-4e1a-bf98-60e8f4ee18b5",
   "metadata": {},
   "source": [
    "Support Vector Classifier"
   ]
  },
  {
   "cell_type": "code",
   "execution_count": 56,
   "id": "9bf0f587-b713-4e79-bb0b-2b9477692eb8",
   "metadata": {},
   "outputs": [],
   "source": [
    "params = {\n",
    "    'C': [1, 10],\n",
    "    'kernel': ['rbf','poly']    \n",
    "}\n",
    "gscv_svc = GridSearchCV(SVC(random_state=42), params, return_train_score=True, cv=5, scoring='accuracy').fit(X_train, y_train)"
   ]
  },
  {
   "cell_type": "code",
   "execution_count": 57,
   "id": "c842470b-6b6a-49a9-bdd9-c686f55d4445",
   "metadata": {},
   "outputs": [
    {
     "name": "stdout",
     "output_type": "stream",
     "text": [
      "{'C': 10, 'kernel': 'rbf'}\n"
     ]
    }
   ],
   "source": [
    "print(gscv_svc.best_params_)"
   ]
  },
  {
   "cell_type": "code",
   "execution_count": 58,
   "id": "9ee97f09-78a3-4bfd-b0ce-a0f05aca640f",
   "metadata": {},
   "outputs": [],
   "source": [
    "tuned_svc_start_time_ms = round(time.time() * 1000) \n",
    "gscv_svc.best_estimator_.fit(X_train, y_train)\n",
    "tuned_svc_end_time_ms = round(time.time() * 1000)"
   ]
  },
  {
   "cell_type": "code",
   "execution_count": 59,
   "id": "8cb1b98d-8be9-4435-adff-e5c177ff320d",
   "metadata": {},
   "outputs": [
    {
     "name": "stdout",
     "output_type": "stream",
     "text": [
      "Train Time is 3955 ms, Train Accuracy is 0.7827 , Test Accuracy is 0.7903\n"
     ]
    }
   ],
   "source": [
    "svc_y_pred = gscv_svc.predict(X_test)\n",
    "tuned_svc_train_time = round(tuned_svc_end_time_ms - tuned_svc_start_time_ms)\n",
    "tuned_svc_train_score = round(gscv_svc.score(X_train, y_train), 4)\n",
    "tuned_svc_test_score = round(accuracy_score(y_test, svc_y_pred), 4)\n",
    "printMetrics(tuned_svc_train_time, tuned_svc_train_score, tuned_svc_test_score)"
   ]
  },
  {
   "cell_type": "code",
   "execution_count": null,
   "id": "a8b9d05a-1f19-482b-85fe-b555f19dd0d5",
   "metadata": {},
   "outputs": [],
   "source": []
  },
  {
   "cell_type": "markdown",
   "id": "6537c209-4875-454a-b833-f7178499de79",
   "metadata": {},
   "source": [
    "Light Hyperparameter Tuning Results"
   ]
  },
  {
   "cell_type": "code",
   "execution_count": 60,
   "id": "e4cbe61d-37da-4ce2-ba03-09eb155eac90",
   "metadata": {},
   "outputs": [
    {
     "data": {
      "text/html": [
       "<div>\n",
       "<style scoped>\n",
       "    .dataframe tbody tr th:only-of-type {\n",
       "        vertical-align: middle;\n",
       "    }\n",
       "\n",
       "    .dataframe tbody tr th {\n",
       "        vertical-align: top;\n",
       "    }\n",
       "\n",
       "    .dataframe thead th {\n",
       "        text-align: right;\n",
       "    }\n",
       "</style>\n",
       "<table border=\"1\" class=\"dataframe\">\n",
       "  <thead>\n",
       "    <tr style=\"text-align: right;\">\n",
       "      <th></th>\n",
       "      <th>Train Time (ms)</th>\n",
       "      <th>Train Accuracy</th>\n",
       "      <th>Test Accuracy</th>\n",
       "    </tr>\n",
       "  </thead>\n",
       "  <tbody>\n",
       "    <tr>\n",
       "      <th>Logistic Regression</th>\n",
       "      <td>36</td>\n",
       "      <td>0.7817</td>\n",
       "      <td>0.7862</td>\n",
       "    </tr>\n",
       "    <tr>\n",
       "      <th>K-Nearest Neighbors</th>\n",
       "      <td>12</td>\n",
       "      <td>0.8251</td>\n",
       "      <td>0.7769</td>\n",
       "    </tr>\n",
       "    <tr>\n",
       "      <th>Decision Tree</th>\n",
       "      <td>21</td>\n",
       "      <td>0.7980</td>\n",
       "      <td>0.8034</td>\n",
       "    </tr>\n",
       "    <tr>\n",
       "      <th>Support Vector Machine</th>\n",
       "      <td>3955</td>\n",
       "      <td>0.7827</td>\n",
       "      <td>0.7903</td>\n",
       "    </tr>\n",
       "  </tbody>\n",
       "</table>\n",
       "</div>"
      ],
      "text/plain": [
       "                        Train Time (ms)  Train Accuracy  Test Accuracy\n",
       "Logistic Regression                  36          0.7817         0.7862\n",
       "K-Nearest Neighbors                  12          0.8251         0.7769\n",
       "Decision Tree                        21          0.7980         0.8034\n",
       "Support Vector Machine             3955          0.7827         0.7903"
      ]
     },
     "execution_count": 60,
     "metadata": {},
     "output_type": "execute_result"
    }
   ],
   "source": [
    "tuned_results = pd.DataFrame({\n",
    "    'Train Time (ms)': [tuned_lgr_train_time, tuned_knn_train_time, tuned_dtc_train_time, tuned_svc_train_time],\n",
    "    'Train Accuracy': [tuned_lgr_train_score, tuned_knn_train_score, tuned_dtc_train_score, tuned_svc_train_score],\n",
    "    'Test Accuracy': [tuned_lgr_test_score, tuned_knn_test_score, tuned_dtc_test_score, tuned_svc_test_score]\n",
    "}, index=['Logistic Regression','K-Nearest Neighbors','Decision Tree','Support Vector Machine'])\n",
    "tuned_results"
   ]
  },
  {
   "cell_type": "markdown",
   "id": "c90bb6f7-6887-43a1-8857-5219fcc8897a",
   "metadata": {},
   "source": [
    "With light hyperparameter tuning, the decision tree model had the best score. The training score is much lower indicating that the DTC training with default parameters led to overfitting."
   ]
  },
  {
   "cell_type": "code",
   "execution_count": 61,
   "id": "8bf0ff8c-d72e-42d0-92ef-ede3afd19c20",
   "metadata": {},
   "outputs": [
    {
     "data": {
      "image/png": "[encoded data removed]",
      "text/plain": [
       "<Figure size 640x480 with 2 Axes>"
      ]
     },
     "metadata": {},
     "output_type": "display_data"
    }
   ],
   "source": [
    "dtc_cm = confusion_matrix(y_test, dtc_y_pred)\n",
    "\n",
    "dtc_cmd = ConfusionMatrixDisplay(confusion_matrix=dtc_cm, display_labels=tuned_dtc.classes_)\n",
    "fig = dtc_cmd.plot().figure_\n",
    "plt.title('Decision Tree Confusion Matrix')\n",
    "plt.show()\n",
    "fig.tight_layout(rect=(0,.05,1,1)) "
   ]
  },
  {
   "cell_type": "code",
   "execution_count": null,
   "id": "8f0d49ba-1efc-4e3f-a013-cd5a7f4c0f7f",
   "metadata": {},
   "outputs": [],
   "source": []
  },
  {
   "cell_type": "markdown",
   "id": "4d4b83bc-d1b7-47cf-b017-4e54890f59f9",
   "metadata": {},
   "source": [
    "## 5. Model Evaluation"
   ]
  },
  {
   "cell_type": "markdown",
   "id": "c1709c45-a709-4079-ad92-e5703cabbe65",
   "metadata": {},
   "source": [
    "### Results"
   ]
  },
  {
   "cell_type": "markdown",
   "id": "704da63a-59f2-46fd-a6b9-c6ef3bfa2e90",
   "metadata": {},
   "source": [
    "The baseline score with the dummy classifier was 0.6415. The score from SVC with default parameters was much better at 0.7899. With light hyperparameter tuning using grid search, the decision tree has the best score improved at 0.8034."
   ]
  },
  {
   "cell_type": "markdown",
   "id": "7c17eb7d-3698-4681-9314-665b53081b6a",
   "metadata": {},
   "source": [
    "### Conclusion and Next Steps"
   ]
  },
  {
   "cell_type": "markdown",
   "id": "9cf781da-6f18-4a02-9654-7507c4ca996a",
   "metadata": {},
   "source": [
    "The test scores show that ML modeling is a viable way to predict events where the driver is over the posted speed limit. Further imporvements to the models should increase accuracy. \n",
    "\n",
    "Future work will use grid search to more thoroughly tune hyperparameters. It will also consider scoring metrics to reduce false negatives or false positives for different business cases. We need to determine if the predictions should favor a lower the chance of missing a speeding event or a lower chance of sending a false speeding alert. This will be a business decision, but it will affect the scoring method used to optimize the models."
   ]
  },
  {
   "cell_type": "code",
   "execution_count": null,
   "id": "c2571f43-efd5-4bc1-af49-658e78f00e14",
   "metadata": {},
   "outputs": [],
   "source": []
  }
 ],
 "metadata": {
  "kernelspec": {
   "display_name": "Python 3 (ipykernel)",
   "language": "python",
   "name": "python3"
  },
  "language_info": {
   "codemirror_mode": {
    "name": "ipython",
    "version": 3
   },
   "file_extension": ".py",
   "mimetype": "text/x-python",
   "name": "python",
   "nbconvert_exporter": "python",
   "pygments_lexer": "ipython3",
   "version": "3.12.4"
  }
 },
 "nbformat": 4,
 "nbformat_minor": 5
}
