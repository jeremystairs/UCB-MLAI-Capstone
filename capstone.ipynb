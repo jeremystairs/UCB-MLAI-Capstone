{
 "cells": [
  {
   "cell_type": "markdown",
   "id": "b12d1cf0-6e2b-4489-9050-69961f97a864",
   "metadata": {},
   "source": [
    "# Capstone Project: Predicting Speeding from Open Street Maps and Telematics Data\n",
    "\n",
    "##### Professional Certificate in Machine Learning and Artificial Intelligence\n",
    "##### Jeremy Stairs\n",
    "##### June 2024"
   ]
  },
  {
   "cell_type": "code",
   "execution_count": 1,
   "id": "94d2ce70-04cb-4696-be03-d15c8ba9dffc",
   "metadata": {},
   "outputs": [],
   "source": [
    "import pandas as pd\n",
    "import numpy as np\n",
    "import seaborn as sns\n",
    "import matplotlib.pyplot as plt\n",
    "import time\n",
    "\n",
    "from sklearn.model_selection import train_test_split, GridSearchCV\n",
    "from sklearn.preprocessing import StandardScaler\n",
    "from sklearn.pipeline import Pipeline\n",
    "from sklearn.dummy import DummyClassifier\n",
    "from sklearn.linear_model import LogisticRegression\n",
    "from sklearn.neighbors import KNeighborsClassifier\n",
    "from sklearn.tree import DecisionTreeClassifier\n",
    "from sklearn.svm import SVC\n",
    "from sklearn.metrics import recall_score, precision_score, make_scorer\n",
    "from sklearn.metrics import confusion_matrix, ConfusionMatrixDisplay\n",
    "from sklearn.ensemble import RandomForestClassifier, AdaBoostClassifier\n",
    "\n",
    "import warnings\n",
    "warnings.filterwarnings(\"ignore\")"
   ]
  },
  {
   "cell_type": "markdown",
   "id": "1f567593-5fa1-4a70-a5e6-df6e31256c2b",
   "metadata": {},
   "source": [
    "## 1. Business Understanding"
   ]
  },
  {
   "cell_type": "markdown",
   "id": "f2a47f7b-521e-4f99-a3a9-a5a68b88385e",
   "metadata": {},
   "source": [
    "### Executive Summary"
   ]
  },
  {
   "cell_type": "markdown",
   "id": "382f2621-7021-47d3-8c60-992190cf7f74",
   "metadata": {},
   "source": [
    "This project uses Open Street Maps (OSM) data with fleet vehicle data to predict if a driver is speeding in each driving report. Using OSM data, the cost per report will be much lower than the paid mapping services. Unfortunately, OSM is far from complete. Many requests are returned with no speed limit. It's difficult to predict the speed limit in a specific location using just OSM data. However, we might be able to use OSM data along with the known vehicle speed to predict if the driver is speeding. It's unlikelt that the error will be low enough to reliably send an alert to the user. Still, this prediction can idicate potential speeding. If speeding is likely, we can perform more accurate and costly speed limit queries. Ultimately, it's important that we catch each instance of speeding to ensure driver safety for all of our customers."
   ]
  },
  {
   "cell_type": "markdown",
   "id": "fe40f585-4d98-4dab-a3a5-e77f57beb8a9",
   "metadata": {},
   "source": [
    "### Rationale"
   ]
  },
  {
   "cell_type": "markdown",
   "id": "ebbcf274-a1f9-4a56-923f-a01f165ad4e5",
   "metadata": {},
   "source": [
    "As a fleet telematics company, our customers reqire alerts when drivers are speeding. Vehicle speed is included in each vehicle report. However, there are few complete speed limit databases. None are free. The Open Street Map project includes speed limits, but this only covers about 12% of its roads. Until the crowd-sourced database is complete, a model for predicting when a driver is speeding would allow us to reduce costs while still providing our customers with alerts needed to ensure fleet vehicles are driven safely. "
   ]
  },
  {
   "cell_type": "markdown",
   "id": "35e73fd8-6cc4-4b0e-9219-2a2490283169",
   "metadata": {},
   "source": [
    "### Research Question"
   ]
  },
  {
   "cell_type": "markdown",
   "id": "aec0db8f-a82a-4fb2-bdad-00e38ae202c9",
   "metadata": {},
   "source": [
    "Can telematics data and Open Street maps data be used to determine if a driver is speeding?\n",
    "\n",
    "Note:\n",
    "My original question asked if the speed limit could be predicted from OSM data. Early testing showed scores under 0.3. This was likely due to the target being multilabel with over 10 different labels. I decided to refoucus the question to determine when vehicles were driven over the posted speed limit. Thas has a simiple yes/no target and is very relavent to our company's speed limit alert serivce."
   ]
  },
  {
   "cell_type": "markdown",
   "id": "1edf7ef3-df20-4f6b-b338-0e7f98d9dbe9",
   "metadata": {},
   "source": [
    "## 2. Data Understanding"
   ]
  },
  {
   "cell_type": "markdown",
   "id": "2f2ed623-7c83-4166-b1b4-bbaaaa7e3fb9",
   "metadata": {},
   "source": [
    "### Data Sources"
   ]
  },
  {
   "cell_type": "markdown",
   "id": "7f81f025-7ada-41c4-ac09-de0ec5ba0c80",
   "metadata": {},
   "source": [
    "This project has two data sources:\n",
    "\n",
    "- Fleet telematics data\n",
    "- Open Street Maps (OSM) tag data\n",
    "\n",
    "Speed limits and associated mapping data are publicly available from the Open Street Map (OSM) project. There are mapping files with varying levels of granularity (continent, country, state). The files can be uncompressed and imported to a PostgreSQL server. The compressed mapping files for the entire world are about 100 GB which require about 1TB of database space. We have a server with full mapping data for the continental US. \n",
    "\n",
    "OSM Wiki: https://wiki.openstreetmap.orgLinks to an external site.\n",
    "\n",
    "OSM mapping files: https://download.geofabrik.de/\n",
    "\n",
    "Our units in the field report telematics data periodically while moving. This data is combined with data from OSM based on the vehicle location. I extracted data for several days of reporting when both vehicle speed and OSM speed limit were included. The data was unaltered expect for the 'speeding' column which was derived from the posted speed limit and the vehicle speed."
   ]
  },
  {
   "cell_type": "code",
   "execution_count": 2,
   "id": "7ad261b9",
   "metadata": {},
   "outputs": [],
   "source": [
    "speeding = pd.read_csv('data/speeding.csv', low_memory=False)"
   ]
  },
  {
   "cell_type": "code",
   "execution_count": 3,
   "id": "7e6ce018-8a56-49c5-873a-8a0ffeafc15f",
   "metadata": {},
   "outputs": [
    {
     "name": "stdout",
     "output_type": "stream",
     "text": [
      "<class 'pandas.core.frame.DataFrame'>\n",
      "RangeIndex: 196472 entries, 0 to 196471\n",
      "Data columns (total 9 columns):\n",
      " #   Column           Non-Null Count   Dtype  \n",
      "---  ------           --------------   -----  \n",
      " 0   normalizedSpeed  196430 non-null  float64\n",
      " 1   lanes            184500 non-null  object \n",
      " 2   oneway           170363 non-null  object \n",
      " 3   surface          121077 non-null  object \n",
      " 4   hgv              105231 non-null  object \n",
      " 5   foot             55820 non-null   object \n",
      " 6   horse            34329 non-null   object \n",
      " 7   bicycle          90839 non-null   object \n",
      " 8   speeding         196472 non-null  object \n",
      "dtypes: float64(1), object(8)\n",
      "memory usage: 13.5+ MB\n"
     ]
    }
   ],
   "source": [
    "speeding.info()"
   ]
  },
  {
   "cell_type": "markdown",
   "id": "b9fbed9a-9788-41a9-a0f4-a198a033ddd5",
   "metadata": {},
   "source": [
    "The dataset contains eight features and one target:\n",
    "- normalizedSpeed - vehicle speed normalized to miles per hour\n",
    "- lanes - number of lanes traveling in the same direction\n",
    "- oneway - indicates if the OSM way only allows travel in one directions, possible values: yes, no, reversible, alternating\n",
    "- surface - the phyical surface of the OSM way\n",
    "- hgv - indicates conditions for heavy good vehicles\n",
    "- foot - indicates if pedestrian foot traffic is allowed\n",
    "- horse - indicates if equestrians are allowed\n",
    "- bicycle - indicates if bicyclists are allowed\n",
    "- speeding - target - if 'yes', the vehicle speed was greater than posted speed limit, otherwise 'no'"
   ]
  },
  {
   "cell_type": "markdown",
   "id": "aecf327b-4670-43a8-b29a-4b0ae7b0df8c",
   "metadata": {},
   "source": [
    "## 3. Data Perparation"
   ]
  },
  {
   "cell_type": "code",
   "execution_count": 4,
   "id": "02546604-92a5-4137-84ed-62ae29363f1f",
   "metadata": {},
   "outputs": [
    {
     "data": {
      "text/html": [
       "<div>\n",
       "<style scoped>\n",
       "    .dataframe tbody tr th:only-of-type {\n",
       "        vertical-align: middle;\n",
       "    }\n",
       "\n",
       "    .dataframe tbody tr th {\n",
       "        vertical-align: top;\n",
       "    }\n",
       "\n",
       "    .dataframe thead th {\n",
       "        text-align: right;\n",
       "    }\n",
       "</style>\n",
       "<table border=\"1\" class=\"dataframe\">\n",
       "  <thead>\n",
       "    <tr style=\"text-align: right;\">\n",
       "      <th></th>\n",
       "      <th>normalizedSpeed</th>\n",
       "      <th>lanes</th>\n",
       "      <th>oneway</th>\n",
       "      <th>surface</th>\n",
       "      <th>hgv</th>\n",
       "      <th>foot</th>\n",
       "      <th>horse</th>\n",
       "      <th>bicycle</th>\n",
       "      <th>speeding</th>\n",
       "    </tr>\n",
       "  </thead>\n",
       "  <tbody>\n",
       "    <tr>\n",
       "      <th>0</th>\n",
       "      <td>61.0</td>\n",
       "      <td>2</td>\n",
       "      <td>NaN</td>\n",
       "      <td>asphalt</td>\n",
       "      <td>NaN</td>\n",
       "      <td>NaN</td>\n",
       "      <td>NaN</td>\n",
       "      <td>NaN</td>\n",
       "      <td>Yes</td>\n",
       "    </tr>\n",
       "    <tr>\n",
       "      <th>1</th>\n",
       "      <td>16.0</td>\n",
       "      <td>2</td>\n",
       "      <td>NaN</td>\n",
       "      <td>asphalt</td>\n",
       "      <td>NaN</td>\n",
       "      <td>NaN</td>\n",
       "      <td>NaN</td>\n",
       "      <td>NaN</td>\n",
       "      <td>No</td>\n",
       "    </tr>\n",
       "    <tr>\n",
       "      <th>2</th>\n",
       "      <td>50.0</td>\n",
       "      <td>3</td>\n",
       "      <td>yes</td>\n",
       "      <td>NaN</td>\n",
       "      <td>designated</td>\n",
       "      <td>no</td>\n",
       "      <td>no</td>\n",
       "      <td>no</td>\n",
       "      <td>No</td>\n",
       "    </tr>\n",
       "    <tr>\n",
       "      <th>3</th>\n",
       "      <td>19.0</td>\n",
       "      <td>2</td>\n",
       "      <td>NaN</td>\n",
       "      <td>asphalt</td>\n",
       "      <td>NaN</td>\n",
       "      <td>NaN</td>\n",
       "      <td>NaN</td>\n",
       "      <td>NaN</td>\n",
       "      <td>No</td>\n",
       "    </tr>\n",
       "    <tr>\n",
       "      <th>4</th>\n",
       "      <td>0.0</td>\n",
       "      <td>2</td>\n",
       "      <td>yes</td>\n",
       "      <td>asphalt</td>\n",
       "      <td>NaN</td>\n",
       "      <td>NaN</td>\n",
       "      <td>NaN</td>\n",
       "      <td>NaN</td>\n",
       "      <td>No</td>\n",
       "    </tr>\n",
       "    <tr>\n",
       "      <th>5</th>\n",
       "      <td>0.0</td>\n",
       "      <td>2</td>\n",
       "      <td>no</td>\n",
       "      <td>asphalt</td>\n",
       "      <td>NaN</td>\n",
       "      <td>NaN</td>\n",
       "      <td>NaN</td>\n",
       "      <td>NaN</td>\n",
       "      <td>No</td>\n",
       "    </tr>\n",
       "    <tr>\n",
       "      <th>6</th>\n",
       "      <td>5.0</td>\n",
       "      <td>2</td>\n",
       "      <td>no</td>\n",
       "      <td>asphalt</td>\n",
       "      <td>NaN</td>\n",
       "      <td>NaN</td>\n",
       "      <td>NaN</td>\n",
       "      <td>NaN</td>\n",
       "      <td>No</td>\n",
       "    </tr>\n",
       "    <tr>\n",
       "      <th>7</th>\n",
       "      <td>66.0</td>\n",
       "      <td>4</td>\n",
       "      <td>yes</td>\n",
       "      <td>NaN</td>\n",
       "      <td>designated</td>\n",
       "      <td>no</td>\n",
       "      <td>no</td>\n",
       "      <td>no</td>\n",
       "      <td>Yes</td>\n",
       "    </tr>\n",
       "    <tr>\n",
       "      <th>8</th>\n",
       "      <td>56.0</td>\n",
       "      <td>3</td>\n",
       "      <td>yes</td>\n",
       "      <td>NaN</td>\n",
       "      <td>designated</td>\n",
       "      <td>no</td>\n",
       "      <td>no</td>\n",
       "      <td>no</td>\n",
       "      <td>No</td>\n",
       "    </tr>\n",
       "    <tr>\n",
       "      <th>9</th>\n",
       "      <td>23.0</td>\n",
       "      <td>3</td>\n",
       "      <td>yes</td>\n",
       "      <td>NaN</td>\n",
       "      <td>designated</td>\n",
       "      <td>no</td>\n",
       "      <td>no</td>\n",
       "      <td>no</td>\n",
       "      <td>No</td>\n",
       "    </tr>\n",
       "  </tbody>\n",
       "</table>\n",
       "</div>"
      ],
      "text/plain": [
       "   normalizedSpeed lanes oneway  surface         hgv foot horse bicycle  \\\n",
       "0             61.0     2    NaN  asphalt         NaN  NaN   NaN     NaN   \n",
       "1             16.0     2    NaN  asphalt         NaN  NaN   NaN     NaN   \n",
       "2             50.0     3    yes      NaN  designated   no    no      no   \n",
       "3             19.0     2    NaN  asphalt         NaN  NaN   NaN     NaN   \n",
       "4              0.0     2    yes  asphalt         NaN  NaN   NaN     NaN   \n",
       "5              0.0     2     no  asphalt         NaN  NaN   NaN     NaN   \n",
       "6              5.0     2     no  asphalt         NaN  NaN   NaN     NaN   \n",
       "7             66.0     4    yes      NaN  designated   no    no      no   \n",
       "8             56.0     3    yes      NaN  designated   no    no      no   \n",
       "9             23.0     3    yes      NaN  designated   no    no      no   \n",
       "\n",
       "  speeding  \n",
       "0      Yes  \n",
       "1       No  \n",
       "2       No  \n",
       "3       No  \n",
       "4       No  \n",
       "5       No  \n",
       "6       No  \n",
       "7      Yes  \n",
       "8       No  \n",
       "9       No  "
      ]
     },
     "execution_count": 4,
     "metadata": {},
     "output_type": "execute_result"
    }
   ],
   "source": [
    "speeding.head(10)"
   ]
  },
  {
   "cell_type": "markdown",
   "id": "469bb3b7-1b02-448b-b0f5-a22fab016c36",
   "metadata": {},
   "source": [
    "OSM tags are sparsly populated. Unfortunately, this means that the dataset has many NaN vlaues. Before analysis, records with null values and duplicate records are removed."
   ]
  },
  {
   "cell_type": "code",
   "execution_count": 5,
   "id": "fd438900-2a99-472a-a89e-825d49e87fa9",
   "metadata": {},
   "outputs": [
    {
     "name": "stdout",
     "output_type": "stream",
     "text": [
      "Row count after null values have been removed:  17662\n"
     ]
    }
   ],
   "source": [
    "speeding.dropna(inplace=True)\n",
    "print('Row count after null values have been removed: ', speeding.shape[0])"
   ]
  },
  {
   "cell_type": "markdown",
   "id": "91ca7298-0037-418d-970f-e43d53c00e10",
   "metadata": {},
   "source": [
    "Many vheicles travel on regular routes or perform work in a limited territory. The dataset originally had a large number of duplicates. These were previously removed to reduce the file size."
   ]
  },
  {
   "cell_type": "markdown",
   "id": "e9b673d2-c2f3-45b0-9acb-1bf6576af639",
   "metadata": {},
   "source": [
    "Reset the dataframe index"
   ]
  },
  {
   "cell_type": "code",
   "execution_count": 6,
   "id": "161bf724-4701-4feb-a04d-b798437418a4",
   "metadata": {},
   "outputs": [
    {
     "data": {
      "text/html": [
       "<div>\n",
       "<style scoped>\n",
       "    .dataframe tbody tr th:only-of-type {\n",
       "        vertical-align: middle;\n",
       "    }\n",
       "\n",
       "    .dataframe tbody tr th {\n",
       "        vertical-align: top;\n",
       "    }\n",
       "\n",
       "    .dataframe thead th {\n",
       "        text-align: right;\n",
       "    }\n",
       "</style>\n",
       "<table border=\"1\" class=\"dataframe\">\n",
       "  <thead>\n",
       "    <tr style=\"text-align: right;\">\n",
       "      <th></th>\n",
       "      <th>normalizedSpeed</th>\n",
       "      <th>lanes</th>\n",
       "      <th>oneway</th>\n",
       "      <th>surface</th>\n",
       "      <th>hgv</th>\n",
       "      <th>foot</th>\n",
       "      <th>horse</th>\n",
       "      <th>bicycle</th>\n",
       "      <th>speeding</th>\n",
       "    </tr>\n",
       "  </thead>\n",
       "  <tbody>\n",
       "    <tr>\n",
       "      <th>0</th>\n",
       "      <td>63.000000</td>\n",
       "      <td>3</td>\n",
       "      <td>yes</td>\n",
       "      <td>asphalt</td>\n",
       "      <td>designated</td>\n",
       "      <td>no</td>\n",
       "      <td>no</td>\n",
       "      <td>no</td>\n",
       "      <td>Yes</td>\n",
       "    </tr>\n",
       "    <tr>\n",
       "      <th>1</th>\n",
       "      <td>45.000000</td>\n",
       "      <td>2</td>\n",
       "      <td>yes</td>\n",
       "      <td>asphalt</td>\n",
       "      <td>designated</td>\n",
       "      <td>no</td>\n",
       "      <td>no</td>\n",
       "      <td>no</td>\n",
       "      <td>No</td>\n",
       "    </tr>\n",
       "    <tr>\n",
       "      <th>2</th>\n",
       "      <td>32.000000</td>\n",
       "      <td>3</td>\n",
       "      <td>yes</td>\n",
       "      <td>asphalt</td>\n",
       "      <td>designated</td>\n",
       "      <td>no</td>\n",
       "      <td>no</td>\n",
       "      <td>no</td>\n",
       "      <td>No</td>\n",
       "    </tr>\n",
       "    <tr>\n",
       "      <th>3</th>\n",
       "      <td>40.000000</td>\n",
       "      <td>3</td>\n",
       "      <td>yes</td>\n",
       "      <td>asphalt</td>\n",
       "      <td>designated</td>\n",
       "      <td>no</td>\n",
       "      <td>no</td>\n",
       "      <td>no</td>\n",
       "      <td>No</td>\n",
       "    </tr>\n",
       "    <tr>\n",
       "      <th>4</th>\n",
       "      <td>47.000000</td>\n",
       "      <td>3</td>\n",
       "      <td>yes</td>\n",
       "      <td>asphalt</td>\n",
       "      <td>designated</td>\n",
       "      <td>no</td>\n",
       "      <td>no</td>\n",
       "      <td>no</td>\n",
       "      <td>Yes</td>\n",
       "    </tr>\n",
       "    <tr>\n",
       "      <th>...</th>\n",
       "      <td>...</td>\n",
       "      <td>...</td>\n",
       "      <td>...</td>\n",
       "      <td>...</td>\n",
       "      <td>...</td>\n",
       "      <td>...</td>\n",
       "      <td>...</td>\n",
       "      <td>...</td>\n",
       "      <td>...</td>\n",
       "    </tr>\n",
       "    <tr>\n",
       "      <th>17657</th>\n",
       "      <td>9.000000</td>\n",
       "      <td>3</td>\n",
       "      <td>yes</td>\n",
       "      <td>concrete</td>\n",
       "      <td>designated</td>\n",
       "      <td>no</td>\n",
       "      <td>no</td>\n",
       "      <td>yes</td>\n",
       "      <td>No</td>\n",
       "    </tr>\n",
       "    <tr>\n",
       "      <th>17658</th>\n",
       "      <td>23.245489</td>\n",
       "      <td>5</td>\n",
       "      <td>yes</td>\n",
       "      <td>asphalt</td>\n",
       "      <td>designated</td>\n",
       "      <td>no</td>\n",
       "      <td>no</td>\n",
       "      <td>no</td>\n",
       "      <td>No</td>\n",
       "    </tr>\n",
       "    <tr>\n",
       "      <th>17659</th>\n",
       "      <td>27.000000</td>\n",
       "      <td>1</td>\n",
       "      <td>yes</td>\n",
       "      <td>asphalt</td>\n",
       "      <td>designated</td>\n",
       "      <td>no</td>\n",
       "      <td>no</td>\n",
       "      <td>no</td>\n",
       "      <td>Yes</td>\n",
       "    </tr>\n",
       "    <tr>\n",
       "      <th>17660</th>\n",
       "      <td>69.737089</td>\n",
       "      <td>4</td>\n",
       "      <td>yes</td>\n",
       "      <td>concrete</td>\n",
       "      <td>designated</td>\n",
       "      <td>no</td>\n",
       "      <td>no</td>\n",
       "      <td>no</td>\n",
       "      <td>No</td>\n",
       "    </tr>\n",
       "    <tr>\n",
       "      <th>17661</th>\n",
       "      <td>3.797570</td>\n",
       "      <td>2</td>\n",
       "      <td>yes</td>\n",
       "      <td>asphalt</td>\n",
       "      <td>designated</td>\n",
       "      <td>no</td>\n",
       "      <td>no</td>\n",
       "      <td>no</td>\n",
       "      <td>No</td>\n",
       "    </tr>\n",
       "  </tbody>\n",
       "</table>\n",
       "<p>17662 rows × 9 columns</p>\n",
       "</div>"
      ],
      "text/plain": [
       "       normalizedSpeed lanes oneway   surface         hgv foot horse bicycle  \\\n",
       "0            63.000000     3    yes   asphalt  designated   no    no      no   \n",
       "1            45.000000     2    yes   asphalt  designated   no    no      no   \n",
       "2            32.000000     3    yes   asphalt  designated   no    no      no   \n",
       "3            40.000000     3    yes   asphalt  designated   no    no      no   \n",
       "4            47.000000     3    yes   asphalt  designated   no    no      no   \n",
       "...                ...   ...    ...       ...         ...  ...   ...     ...   \n",
       "17657         9.000000     3    yes  concrete  designated   no    no     yes   \n",
       "17658        23.245489     5    yes   asphalt  designated   no    no      no   \n",
       "17659        27.000000     1    yes   asphalt  designated   no    no      no   \n",
       "17660        69.737089     4    yes  concrete  designated   no    no      no   \n",
       "17661         3.797570     2    yes   asphalt  designated   no    no      no   \n",
       "\n",
       "      speeding  \n",
       "0          Yes  \n",
       "1           No  \n",
       "2           No  \n",
       "3           No  \n",
       "4          Yes  \n",
       "...        ...  \n",
       "17657       No  \n",
       "17658       No  \n",
       "17659      Yes  \n",
       "17660       No  \n",
       "17661       No  \n",
       "\n",
       "[17662 rows x 9 columns]"
      ]
     },
     "execution_count": 6,
     "metadata": {},
     "output_type": "execute_result"
    }
   ],
   "source": [
    "speeding.reset_index(drop=True)"
   ]
  },
  {
   "cell_type": "code",
   "execution_count": 7,
   "id": "2fac9a8d-4543-4c28-89ca-8a9ed061cecd",
   "metadata": {},
   "outputs": [
    {
     "name": "stdout",
     "output_type": "stream",
     "text": [
      "<class 'pandas.core.frame.DataFrame'>\n",
      "Index: 17662 entries, 53 to 196462\n",
      "Data columns (total 9 columns):\n",
      " #   Column           Non-Null Count  Dtype  \n",
      "---  ------           --------------  -----  \n",
      " 0   normalizedSpeed  17662 non-null  float64\n",
      " 1   lanes            17662 non-null  object \n",
      " 2   oneway           17662 non-null  object \n",
      " 3   surface          17662 non-null  object \n",
      " 4   hgv              17662 non-null  object \n",
      " 5   foot             17662 non-null  object \n",
      " 6   horse            17662 non-null  object \n",
      " 7   bicycle          17662 non-null  object \n",
      " 8   speeding         17662 non-null  object \n",
      "dtypes: float64(1), object(8)\n",
      "memory usage: 1.3+ MB\n"
     ]
    }
   ],
   "source": [
    "speeding.info()"
   ]
  },
  {
   "cell_type": "markdown",
   "id": "ec1fd9a2-e6e7-40c1-8f08-ceeacd22ad6f",
   "metadata": {},
   "source": [
    "### Feature examination"
   ]
  },
  {
   "cell_type": "code",
   "execution_count": 8,
   "id": "fd69369e-e250-4f96-b91e-0106606749a6",
   "metadata": {},
   "outputs": [
    {
     "data": {
      "image/png": "[encoded data removed]",
      "text/plain": [
       "<Figure size 640x480 with 1 Axes>"
      ]
     },
     "metadata": {},
     "output_type": "display_data"
    }
   ],
   "source": [
    "ax = sns.countplot(speeding, x='speeding')\n",
    "ax.set_title('Target Balance')\n",
    "ax.bar_label(ax.containers[0])\n",
    "ax.figure.savefig(\"images/target_balance.png\", bbox_inches='tight');"
   ]
  },
  {
   "cell_type": "markdown",
   "id": "5972acc1-d37c-4309-a16c-aaca8d2c5708",
   "metadata": {},
   "source": [
    "The target is imbalanced with a ratio of nearly 2 to 1 favoring 'No'."
   ]
  },
  {
   "cell_type": "code",
   "execution_count": 9,
   "id": "d3c334a7-abd1-41c3-b205-e0cea327044f",
   "metadata": {},
   "outputs": [
    {
     "data": {
      "image/png": "[encoded data removed]",
      "text/plain": [
       "<Figure size 640x480 with 1 Axes>"
      ]
     },
     "metadata": {},
     "output_type": "display_data"
    }
   ],
   "source": [
    "sns.histplot(data=speeding, x='normalizedSpeed').set_title('Distribution of normalizedSpeed');"
   ]
  },
  {
   "cell_type": "code",
   "execution_count": 10,
   "id": "f1c70419-3b68-4406-ba73-feaa66bb6078",
   "metadata": {},
   "outputs": [
    {
     "data": {
      "image/png": "[encoded data removed]",
      "text/plain": [
       "<Figure size 640x480 with 1 Axes>"
      ]
     },
     "metadata": {},
     "output_type": "display_data"
    }
   ],
   "source": [
    "ax = sns.countplot(speeding, x=\"lanes\", hue='speeding', order=sorted(speeding['lanes'].astype('float').astype('int').unique().tolist(), key=int))\n",
    "ax.set_title('Values and Frequency of lanes Feature')\n",
    "ax.bar_label(ax.containers[0], fontsize=6)\n",
    "ax.bar_label(ax.containers[1], fontsize=6);"
   ]
  },
  {
   "cell_type": "markdown",
   "id": "364ce92f-ee20-44fb-8919-2a372b129f49",
   "metadata": {},
   "source": [
    "The feature 'lanes' appears to contain meaningful information. Some labels show an imbalence similar to the target, but the balance between 'yes' and 'no' gets more even for roads with more lanes. This could be due to a tendancy to speed on wider roads with more opportunity to safely pass."
   ]
  },
  {
   "cell_type": "code",
   "execution_count": 11,
   "id": "863446a6-2ccf-4590-bec0-106450c5b5ce",
   "metadata": {},
   "outputs": [
    {
     "data": {
      "image/png": "[encoded data removed]",
      "text/plain": [
       "<Figure size 640x480 with 1 Axes>"
      ]
     },
     "metadata": {},
     "output_type": "display_data"
    }
   ],
   "source": [
    "ax = sns.countplot(speeding, x=\"oneway\", hue='speeding')\n",
    "ax.set_title('Values and Frequency of oneway Feature')\n",
    "ax.bar_label(ax.containers[0])\n",
    "ax.bar_label(ax.containers[1]);"
   ]
  },
  {
   "cell_type": "markdown",
   "id": "f4d76d90-5b44-4dce-8385-64a287ab00b3",
   "metadata": {},
   "source": [
    "The value '-1' is equivalent to 'reversible'. The records with oneway='-1' will be converted to oneway='reversible'."
   ]
  },
  {
   "cell_type": "code",
   "execution_count": 12,
   "id": "51193932",
   "metadata": {},
   "outputs": [
    {
     "data": {
      "image/png": "[encoded data removed]",
      "text/plain": [
       "<Figure size 640x480 with 1 Axes>"
      ]
     },
     "metadata": {},
     "output_type": "display_data"
    }
   ],
   "source": [
    "ax = sns.countplot(speeding, x=\"surface\", hue='speeding')\n",
    "ax.set_title('Values and Frequency of surface Feature')\n",
    "ax.bar_label(ax.containers[0])\n",
    "ax.bar_label(ax.containers[1]);"
   ]
  },
  {
   "cell_type": "markdown",
   "id": "7aa2b8a8-7666-4e0f-8d4c-396c4bf5a764",
   "metadata": {},
   "source": [
    "The feature 'surface' shows a tendancy to speed on paved and concrete roads."
   ]
  },
  {
   "cell_type": "code",
   "execution_count": 13,
   "id": "1efd7536",
   "metadata": {},
   "outputs": [
    {
     "data": {
      "image/png": "[encoded data removed]",
      "text/plain": [
       "<Figure size 640x480 with 1 Axes>"
      ]
     },
     "metadata": {},
     "output_type": "display_data"
    }
   ],
   "source": [
    "ax = sns.countplot(speeding, x=\"hgv\", hue='speeding')\n",
    "ax.set_title('Values and Frequency of hgv Feature')\n",
    "ax.bar_label(ax.containers[0])\n",
    "ax.bar_label(ax.containers[1]);"
   ]
  },
  {
   "cell_type": "code",
   "execution_count": 14,
   "id": "b7de7d48",
   "metadata": {},
   "outputs": [
    {
     "data": {
      "image/png": "[encoded data removed]",
      "text/plain": [
       "<Figure size 640x480 with 1 Axes>"
      ]
     },
     "metadata": {},
     "output_type": "display_data"
    }
   ],
   "source": [
    "ax = sns.countplot(speeding, x=\"foot\", hue='speeding')\n",
    "ax.set_title('Values and Frequency of foot Feature')\n",
    "ax.bar_label(ax.containers[0])\n",
    "ax.bar_label(ax.containers[1]);"
   ]
  },
  {
   "cell_type": "code",
   "execution_count": 15,
   "id": "663de254",
   "metadata": {},
   "outputs": [
    {
     "data": {
      "image/png": "[encoded data removed]",
      "text/plain": [
       "<Figure size 640x480 with 1 Axes>"
      ]
     },
     "metadata": {},
     "output_type": "display_data"
    }
   ],
   "source": [
    "ax = sns.countplot(speeding, x=\"horse\", hue='speeding')\n",
    "ax.set_title('Values and Frequency of horse Feature')\n",
    "ax.bar_label(ax.containers[0])\n",
    "ax.bar_label(ax.containers[1]);"
   ]
  },
  {
   "cell_type": "markdown",
   "id": "6fe17903-b479-47f5-99b7-532d1e006b73",
   "metadata": {},
   "source": [
    "The value 'no '' is likely a typo. It will be converted to 'no'."
   ]
  },
  {
   "cell_type": "code",
   "execution_count": 16,
   "id": "bf4a6679",
   "metadata": {},
   "outputs": [
    {
     "data": {
      "image/png": "[encoded data removed]",
      "text/plain": [
       "<Figure size 640x480 with 1 Axes>"
      ]
     },
     "metadata": {},
     "output_type": "display_data"
    }
   ],
   "source": [
    "ax = sns.countplot(speeding, x=\"bicycle\", hue='speeding')\n",
    "ax.set_title('Values and Frequency of bicycle Feature')\n",
    "ax.bar_label(ax.containers[0])\n",
    "ax.bar_label(ax.containers[1]);"
   ]
  },
  {
   "cell_type": "markdown",
   "id": "77dc0497-52c8-42f9-a347-205abe762f8f",
   "metadata": {},
   "source": [
    "The features 'foot', 'horse', and 'bicycle' are all yes/no features which are all imbalanced favoring 'no'. However, the target balance for each feature show that they could contain meaningful informations as a group."
   ]
  },
  {
   "cell_type": "markdown",
   "id": "2537682a-8d05-436a-8e3f-e5ce449f93d0",
   "metadata": {},
   "source": [
    "Data preparation:\n",
    "- 'lanes' will be cast from an object to a numerical feature\n",
    "- 'oneway' will have the values '-1' changed to 'reversible'\n",
    "- 'horse' will have the value 'no '' converted to 'no'\n",
    "- the features 'oneway', 'surface', and 'hgv' will be converted to numerical features using one-hot encoding\n",
    "- the features 'foot', 'horse', and 'bicycle' will be converted to numerical features using binary encoding"
   ]
  },
  {
   "cell_type": "markdown",
   "id": "7f418ac9-5080-4eb4-9531-3b944f064c61",
   "metadata": {},
   "source": [
    "### Data Cleaning"
   ]
  },
  {
   "cell_type": "markdown",
   "id": "04e896f8-504c-4704-9581-6326b131c015",
   "metadata": {},
   "source": [
    "Convert the 'lanes' feature to numeric"
   ]
  },
  {
   "cell_type": "code",
   "execution_count": 17,
   "id": "7522b5f9-b69f-4478-aa87-e3dde9cbe71b",
   "metadata": {},
   "outputs": [],
   "source": [
    "speeding['lanes'] = speeding['lanes'].astype('float').astype('int32')"
   ]
  },
  {
   "cell_type": "markdown",
   "id": "91ca3a45-01c8-4374-a9fb-8aab6c8337c8",
   "metadata": {},
   "source": [
    "Remove odd values from the features 'oneway' and 'horse'"
   ]
  },
  {
   "cell_type": "code",
   "execution_count": 18,
   "id": "940a1836-1ce7-4940-b8da-678fd708c3cb",
   "metadata": {},
   "outputs": [],
   "source": [
    "speeding.loc[speeding['oneway'] == '-1', 'oneway'] = 'reversible'"
   ]
  },
  {
   "cell_type": "code",
   "execution_count": 19,
   "id": "f1e76002-510d-4389-82c4-0254383cacc9",
   "metadata": {},
   "outputs": [],
   "source": [
    "speeding.loc[speeding['horse'] == \"no '\", 'horse'] = 'no'"
   ]
  },
  {
   "cell_type": "markdown",
   "id": "8f91265b-cab2-4945-9b8d-0b951f6d053f",
   "metadata": {},
   "source": [
    "Change the fields 'surface', 'hgv', and 'oneway' to numberical fields using one hot encoding"
   ]
  },
  {
   "cell_type": "code",
   "execution_count": 20,
   "id": "1345afc1-2fbe-4d03-9230-dc4ab56f4c23",
   "metadata": {},
   "outputs": [],
   "source": [
    "speeding = pd.get_dummies(speeding, columns = ['surface', 'hgv', 'oneway'], dtype=int)"
   ]
  },
  {
   "cell_type": "markdown",
   "id": "8eeb0ea2-8d70-4202-ab43-00bf72dc01ca",
   "metadata": {},
   "source": [
    "Change the fields 'foot', 'horse', and 'bicycle' to numberical fields using binary values"
   ]
  },
  {
   "cell_type": "code",
   "execution_count": 21,
   "id": "37dcaf21-1809-4b5a-817b-c62e9f4603fd",
   "metadata": {},
   "outputs": [],
   "source": [
    "speeding['foot'] = pd.Series(np.where(speeding.foot.values == 'yes', 1, 0), speeding.index)"
   ]
  },
  {
   "cell_type": "code",
   "execution_count": 22,
   "id": "510f23d3-cb54-4d51-acd3-d1971126a0eb",
   "metadata": {},
   "outputs": [],
   "source": [
    "speeding['horse'] = pd.Series(np.where(speeding.horse.values == 'yes', 1, 0), speeding.index)"
   ]
  },
  {
   "cell_type": "code",
   "execution_count": 23,
   "id": "047ab7a2",
   "metadata": {},
   "outputs": [],
   "source": [
    "speeding['bicycle'] = pd.Series(np.where(speeding.bicycle.values == 'yes', 1, 0), speeding.index)"
   ]
  },
  {
   "cell_type": "code",
   "execution_count": 24,
   "id": "40193c9d-611c-4e1e-82e4-26ce7659e823",
   "metadata": {},
   "outputs": [
    {
     "name": "stdout",
     "output_type": "stream",
     "text": [
      "<class 'pandas.core.frame.DataFrame'>\n",
      "Index: 17662 entries, 53 to 196462\n",
      "Data columns (total 17 columns):\n",
      " #   Column                   Non-Null Count  Dtype  \n",
      "---  ------                   --------------  -----  \n",
      " 0   normalizedSpeed          17662 non-null  float64\n",
      " 1   lanes                    17662 non-null  int32  \n",
      " 2   foot                     17662 non-null  int64  \n",
      " 3   horse                    17662 non-null  int64  \n",
      " 4   bicycle                  17662 non-null  int64  \n",
      " 5   speeding                 17662 non-null  object \n",
      " 6   surface_asphalt          17662 non-null  int64  \n",
      " 7   surface_concrete         17662 non-null  int64  \n",
      " 8   surface_concrete:plates  17662 non-null  int64  \n",
      " 9   surface_paved            17662 non-null  int64  \n",
      " 10  hgv_designated           17662 non-null  int64  \n",
      " 11  hgv_local                17662 non-null  int64  \n",
      " 12  hgv_no                   17662 non-null  int64  \n",
      " 13  hgv_yes                  17662 non-null  int64  \n",
      " 14  oneway_no                17662 non-null  int64  \n",
      " 15  oneway_reversible        17662 non-null  int64  \n",
      " 16  oneway_yes               17662 non-null  int64  \n",
      "dtypes: float64(1), int32(1), int64(14), object(1)\n",
      "memory usage: 2.4+ MB\n"
     ]
    }
   ],
   "source": [
    "speeding.info()"
   ]
  },
  {
   "cell_type": "markdown",
   "id": "0cfd67ae-045f-4846-9f1e-f3606459e307",
   "metadata": {},
   "source": [
    "#### Separating the target and features"
   ]
  },
  {
   "cell_type": "code",
   "execution_count": 25,
   "id": "1ead1c4f",
   "metadata": {},
   "outputs": [
    {
     "data": {
      "text/plain": [
       "53        Yes\n",
       "88         No\n",
       "104        No\n",
       "105        No\n",
       "106       Yes\n",
       "         ... \n",
       "196361     No\n",
       "196370     No\n",
       "196431    Yes\n",
       "196453     No\n",
       "196462     No\n",
       "Name: speeding, Length: 17662, dtype: object"
      ]
     },
     "execution_count": 25,
     "metadata": {},
     "output_type": "execute_result"
    }
   ],
   "source": [
    "y = speeding['speeding']\n",
    "X = speeding.drop('speeding', axis=1)\n",
    "y"
   ]
  },
  {
   "cell_type": "markdown",
   "id": "c9bf8234-e9e5-47d9-bebf-4bb455b04dde",
   "metadata": {},
   "source": [
    "#### Spliting the data into training and test sets"
   ]
  },
  {
   "cell_type": "code",
   "execution_count": 26,
   "id": "c1bd3451",
   "metadata": {},
   "outputs": [],
   "source": [
    "X_train, X_test, y_train, y_test = train_test_split(X, y, random_state=42)"
   ]
  },
  {
   "cell_type": "code",
   "execution_count": null,
   "id": "6ca8fd6b-c250-4a32-9030-6ab75539c2b4",
   "metadata": {},
   "outputs": [],
   "source": []
  },
  {
   "cell_type": "markdown",
   "id": "3be67b20-0d73-4854-a94b-38b74989151b",
   "metadata": {},
   "source": [
    "## 4. Data Modeling"
   ]
  },
  {
   "cell_type": "markdown",
   "id": "03d991b0-4abe-4571-9e82-85cfcefd1d22",
   "metadata": {},
   "source": [
    "### Methodology"
   ]
  },
  {
   "cell_type": "markdown",
   "id": "5317a1a1-4701-4e6c-bc59-480d31c333f2",
   "metadata": {},
   "source": [
    "This project will compare four classifiers:\n",
    "- Logistic Regression\n",
    "- K-Nearest Neighbors\n",
    "- Decision Tree\n",
    "- Support Vector Machine\n",
    "\n",
    "A baseline will be set using LogisticRegression with default settings. Further modeling will use the classifiers above with default parameters. Grid search will be used to tune hyperparameters."
   ]
  },
  {
   "cell_type": "markdown",
   "id": "8a6b648f-4ece-48e0-8bcd-0785a183a937",
   "metadata": {},
   "source": [
    "#### Selecting evaluation metrics"
   ]
  },
  {
   "cell_type": "markdown",
   "id": "16567d02-f5f8-46b2-af76-bf4abadeb826",
   "metadata": {},
   "source": [
    "The target of our data set is imbalanced nearly 2 to 1. This imbalance makes accuracy a bad evaluation metric. We will consider the metrics precision and recall. Precision minimizes false positives.  This will favor models that catch _some_ speeders, but is unlikely to classify a non-speeder incorrectly. Models with high recall scores will be more likely to catch _all_ speeder, while some non-speeders will be incorrectly classified as speeding. We will measure both metrics for the baseline and default models."
   ]
  },
  {
   "cell_type": "code",
   "execution_count": null,
   "id": "149c0a93-e8d0-4d0f-a29d-dc9cd8b9858e",
   "metadata": {},
   "outputs": [],
   "source": []
  },
  {
   "cell_type": "markdown",
   "id": "6f9325a4-eb25-4f2a-93c1-235b7d713887",
   "metadata": {},
   "source": [
    "#### Establish baseline scores"
   ]
  },
  {
   "cell_type": "markdown",
   "id": "34724748-8982-4cee-b2fa-0a83b6d2d350",
   "metadata": {},
   "source": [
    "Using LogisticRegression"
   ]
  },
  {
   "cell_type": "code",
   "execution_count": 27,
   "id": "d5c51a41",
   "metadata": {},
   "outputs": [],
   "source": [
    "simple_lgr_start_time_ms = round(time.time() * 1000)\n",
    "simple_lgr_pipe = Pipeline([\n",
    "    ('scale', StandardScaler()),\n",
    "    ('lgr', LogisticRegression(random_state=42))]).fit(X_train, y_train)\n",
    "simple_lgr_end_time_ms = round(time.time() * 1000)"
   ]
  },
  {
   "cell_type": "code",
   "execution_count": 28,
   "id": "03e2185c",
   "metadata": {},
   "outputs": [],
   "source": [
    "baseline_train_time = simple_lgr_end_time_ms - simple_lgr_start_time_ms\n",
    "baseline_ytrain_pred = simple_lgr_pipe.predict(X_train)\n",
    "baseline_ytest_pred = simple_lgr_pipe.predict(X_test)\n",
    "baseline_train_precision = round(precision_score(y_train, baseline_ytrain_pred, pos_label='Yes'), 4)\n",
    "baseline_test_precision = round(precision_score(y_test, baseline_ytest_pred, pos_label='Yes'), 4)\n",
    "baseline_train_recall = round(recall_score(y_train, baseline_ytrain_pred, pos_label='Yes'), 4)\n",
    "baseline_test_recall = round(recall_score(y_test, baseline_ytest_pred, pos_label='Yes'), 4)"
   ]
  },
  {
   "cell_type": "markdown",
   "id": "fa1fd214-36ff-4dfb-8709-41c1c973286b",
   "metadata": {},
   "source": [
    "Basline scores"
   ]
  },
  {
   "cell_type": "code",
   "execution_count": 29,
   "id": "b780e1b3-4670-43e6-a3ee-98497967f387",
   "metadata": {},
   "outputs": [
    {
     "name": "stdout",
     "output_type": "stream",
     "text": [
      "Simple Model: Train Time is 29 ms, Train Precision is 0.7047 , Test Precision is 0.6849 , Train Recall is 0.7267 , Test Recall is 0.7498\n"
     ]
    }
   ],
   "source": [
    "print('Simple Model: Train Time is', baseline_train_time, 'ms,', \\\n",
    "      'Train Precision is', round(baseline_train_precision, 4), ',', \\\n",
    "      'Test Precision is', round(baseline_test_precision, 4), ',', \\\n",
    "      'Train Recall is', round(baseline_train_recall, 4), ',', \\\n",
    "      'Test Recall is', round(baseline_test_recall, 4))"
   ]
  },
  {
   "cell_type": "code",
   "execution_count": null,
   "id": "98cdc7b2-8a62-4981-aaa6-9c277d2df599",
   "metadata": {},
   "outputs": [],
   "source": []
  },
  {
   "cell_type": "markdown",
   "id": "316a8551-4adb-4f13-ab09-f71a9dabfff4",
   "metadata": {},
   "source": [
    "#### Support functions to get time and score metrics"
   ]
  },
  {
   "cell_type": "code",
   "execution_count": 30,
   "id": "024588c9",
   "metadata": {},
   "outputs": [],
   "source": [
    "def getMetrics(model, start_time_ms, end_time_ms):\n",
    "    train_time = round(end_time_ms - start_time_ms)\n",
    "    ytrain_pred = model.predict(X_train)\n",
    "    ytest_pred = model.predict(X_test)\n",
    "    train_precision = round(precision_score(y_train, ytrain_pred, pos_label='Yes'), 4)\n",
    "    test_precision = round(precision_score(y_test, ytest_pred, pos_label='Yes'), 4)\n",
    "    train_recall = round(recall_score(y_train, ytrain_pred, pos_label='Yes'), 4)\n",
    "    test_recall = round(recall_score(y_test, ytest_pred, pos_label='Yes'), 4)\n",
    "    return [train_time, train_precision, test_precision, train_recall, test_recall]"
   ]
  },
  {
   "cell_type": "code",
   "execution_count": 31,
   "id": "0d8287aa",
   "metadata": {},
   "outputs": [],
   "source": [
    "def printMetrics(train_time, train_precision, test_precision, train_recall, test_recall):\n",
    "    print('Train Time is', train_time, 'ms,', \\\n",
    "      'Train Precision is', train_precision, ',', \\\n",
    "      'Test Precision is', test_precision, ',', \\\n",
    "      'Train Recall is', train_recall, ',', \\\n",
    "      'Test Recall is', test_recall)"
   ]
  },
  {
   "cell_type": "code",
   "execution_count": null,
   "id": "412ecbee",
   "metadata": {},
   "outputs": [],
   "source": []
  },
  {
   "cell_type": "markdown",
   "id": "edc2b555-0240-4e96-86d2-37af4eb3d326",
   "metadata": {},
   "source": [
    "#### Modeling with default values"
   ]
  },
  {
   "cell_type": "markdown",
   "id": "9c4f1928-12af-494a-9c5e-7e611c8cba00",
   "metadata": {},
   "source": [
    "Logistic Regression"
   ]
  },
  {
   "cell_type": "code",
   "execution_count": 32,
   "id": "72462f14",
   "metadata": {},
   "outputs": [],
   "source": [
    "lgr_start_time_ms = round(time.time() * 1000)\n",
    "default_lgr_pipe = Pipeline([\n",
    "    ('scale', StandardScaler()),\n",
    "    ('lgr', LogisticRegression(random_state=42))]).fit(X_train, y_train)\n",
    "lgr_end_time_ms = round(time.time() * 1000)"
   ]
  },
  {
   "cell_type": "code",
   "execution_count": 33,
   "id": "eddd2e6f",
   "metadata": {},
   "outputs": [
    {
     "name": "stdout",
     "output_type": "stream",
     "text": [
      "Logistic Regression:\n",
      "Train Time is 16 ms, Train Precision is 0.7047 , Test Precision is 0.6849 , Train Recall is 0.7267 , Test Recall is 0.7498\n"
     ]
    }
   ],
   "source": [
    "default_lgr_metrics = getMetrics(default_lgr_pipe, lgr_start_time_ms, lgr_end_time_ms)\n",
    "print('Logistic Regression:')\n",
    "printMetrics(*default_lgr_metrics)"
   ]
  },
  {
   "cell_type": "code",
   "execution_count": null,
   "id": "27c57517",
   "metadata": {},
   "outputs": [],
   "source": []
  },
  {
   "cell_type": "markdown",
   "id": "55888dff-fb18-45fe-9cf6-73504d89e391",
   "metadata": {},
   "source": [
    "K-Nearest Neighbor"
   ]
  },
  {
   "cell_type": "code",
   "execution_count": 34,
   "id": "06db15d0",
   "metadata": {},
   "outputs": [],
   "source": [
    "knn_start_time_ms = round(time.time() * 1000) \n",
    "default_knn_pipe = Pipeline([\n",
    "    ('scale', StandardScaler()),\n",
    "    ('knn', KNeighborsClassifier())]).fit(X_train, y_train)\n",
    "knn_end_time_ms = round(time.time() * 1000)"
   ]
  },
  {
   "cell_type": "code",
   "execution_count": 35,
   "id": "256f1c38",
   "metadata": {},
   "outputs": [
    {
     "name": "stdout",
     "output_type": "stream",
     "text": [
      "K-Neighbors:\n",
      "Train Time is 8 ms, Train Precision is 0.7961 , Test Precision is 0.6555 , Train Recall is 0.7683 , Test Recall is 0.6646\n"
     ]
    }
   ],
   "source": [
    "default_knn_metrics = getMetrics(default_knn_pipe, knn_start_time_ms, knn_end_time_ms)\n",
    "print('K-Neighbors:')\n",
    "printMetrics(*default_knn_metrics)"
   ]
  },
  {
   "cell_type": "code",
   "execution_count": null,
   "id": "e3dfb64a",
   "metadata": {},
   "outputs": [],
   "source": []
  },
  {
   "cell_type": "markdown",
   "id": "6fc6b37b-9aa7-4cea-a70d-d175e3c482a0",
   "metadata": {},
   "source": [
    "Decision Tree"
   ]
  },
  {
   "cell_type": "code",
   "execution_count": 36,
   "id": "85d66d5c",
   "metadata": {},
   "outputs": [],
   "source": [
    "dtc_start_time_ms = round(time.time() * 1000) \n",
    "default_dtc = DecisionTreeClassifier(random_state=42).fit(X_train, y_train)\n",
    "dtc_end_time_ms = round(time.time() * 1000)"
   ]
  },
  {
   "cell_type": "code",
   "execution_count": 37,
   "id": "a26587e5",
   "metadata": {},
   "outputs": [
    {
     "name": "stdout",
     "output_type": "stream",
     "text": [
      "Decision Tree: Train Time is\n",
      "Train Time is 19 ms, Train Precision is 0.9133 , Test Precision is 0.5964 , Train Recall is 0.713 , Test Recall is 0.5414\n"
     ]
    }
   ],
   "source": [
    "default_dtc_metrics = getMetrics(default_dtc, dtc_start_time_ms, dtc_end_time_ms)\n",
    "print('Decision Tree: Train Time is')\n",
    "printMetrics(*default_dtc_metrics)"
   ]
  },
  {
   "cell_type": "code",
   "execution_count": null,
   "id": "c1aaff2e-34ef-42f6-bf88-fa053edc607a",
   "metadata": {},
   "outputs": [],
   "source": []
  },
  {
   "cell_type": "markdown",
   "id": "4bdebd29-d13b-467c-a274-9b5ab6ead34c",
   "metadata": {},
   "source": [
    "Support Vector Classifier"
   ]
  },
  {
   "cell_type": "code",
   "execution_count": 38,
   "id": "ec00695c",
   "metadata": {},
   "outputs": [],
   "source": [
    "svc_start_time_ms = round(time.time() * 1000) \n",
    "default_svc_pipe = Pipeline([\n",
    "    ('scale', StandardScaler()),\n",
    "    ('svc', SVC(random_state=42))]).fit(X_train, y_train)\n",
    "svc_end_time_ms = round(time.time() * 1000)"
   ]
  },
  {
   "cell_type": "code",
   "execution_count": 39,
   "id": "4f855f44",
   "metadata": {},
   "outputs": [
    {
     "name": "stdout",
     "output_type": "stream",
     "text": [
      "Support Vector Machine:\n",
      "Train Time is 1464 ms, Train Precision is 0.725 , Test Precision is 0.6977 , Train Recall is 0.7074 , Test Recall is 0.7334\n"
     ]
    }
   ],
   "source": [
    "default_svc_metrics = getMetrics(default_svc_pipe, svc_start_time_ms, svc_end_time_ms)\n",
    "print('Support Vector Machine:')\n",
    "printMetrics(*default_svc_metrics)"
   ]
  },
  {
   "cell_type": "code",
   "execution_count": null,
   "id": "9c22e066",
   "metadata": {},
   "outputs": [],
   "source": []
  },
  {
   "cell_type": "markdown",
   "id": "a2d82deb-8289-487e-8678-6a4501f86f89",
   "metadata": {},
   "source": [
    "Default Model Results"
   ]
  },
  {
   "cell_type": "code",
   "execution_count": 40,
   "id": "4e7cf8c0",
   "metadata": {},
   "outputs": [
    {
     "data": {
      "text/html": [
       "<div>\n",
       "<style scoped>\n",
       "    .dataframe tbody tr th:only-of-type {\n",
       "        vertical-align: middle;\n",
       "    }\n",
       "\n",
       "    .dataframe tbody tr th {\n",
       "        vertical-align: top;\n",
       "    }\n",
       "\n",
       "    .dataframe thead th {\n",
       "        text-align: right;\n",
       "    }\n",
       "</style>\n",
       "<table border=\"1\" class=\"dataframe\">\n",
       "  <thead>\n",
       "    <tr style=\"text-align: right;\">\n",
       "      <th></th>\n",
       "      <th>Train Time (ms)</th>\n",
       "      <th>Train Precision</th>\n",
       "      <th>Test Precision</th>\n",
       "      <th>Train Recall</th>\n",
       "      <th>Test Recall</th>\n",
       "    </tr>\n",
       "  </thead>\n",
       "  <tbody>\n",
       "    <tr>\n",
       "      <th>Logistic Regression</th>\n",
       "      <td>16.0</td>\n",
       "      <td>0.7047</td>\n",
       "      <td>0.6849</td>\n",
       "      <td>0.7267</td>\n",
       "      <td>0.7498</td>\n",
       "    </tr>\n",
       "    <tr>\n",
       "      <th>K-Nearest Neighbors</th>\n",
       "      <td>8.0</td>\n",
       "      <td>0.7961</td>\n",
       "      <td>0.6555</td>\n",
       "      <td>0.7683</td>\n",
       "      <td>0.6646</td>\n",
       "    </tr>\n",
       "    <tr>\n",
       "      <th>Decision Tree</th>\n",
       "      <td>19.0</td>\n",
       "      <td>0.9133</td>\n",
       "      <td>0.5964</td>\n",
       "      <td>0.7130</td>\n",
       "      <td>0.5414</td>\n",
       "    </tr>\n",
       "    <tr>\n",
       "      <th>Support Vector Machine</th>\n",
       "      <td>1464.0</td>\n",
       "      <td>0.7250</td>\n",
       "      <td>0.6977</td>\n",
       "      <td>0.7074</td>\n",
       "      <td>0.7334</td>\n",
       "    </tr>\n",
       "  </tbody>\n",
       "</table>\n",
       "</div>"
      ],
      "text/plain": [
       "                        Train Time (ms)  Train Precision  Test Precision  \\\n",
       "Logistic Regression                16.0           0.7047          0.6849   \n",
       "K-Nearest Neighbors                 8.0           0.7961          0.6555   \n",
       "Decision Tree                      19.0           0.9133          0.5964   \n",
       "Support Vector Machine           1464.0           0.7250          0.6977   \n",
       "\n",
       "                        Train Recall  Test Recall  \n",
       "Logistic Regression           0.7267       0.7498  \n",
       "K-Nearest Neighbors           0.7683       0.6646  \n",
       "Decision Tree                 0.7130       0.5414  \n",
       "Support Vector Machine        0.7074       0.7334  "
      ]
     },
     "execution_count": 40,
     "metadata": {},
     "output_type": "execute_result"
    }
   ],
   "source": [
    "metric_columns = ['Train Time (ms)', 'Train Precision', 'Test Precision', 'Train Recall', 'Test Recall']\n",
    "default_results = pd.DataFrame({ \n",
    "        'Logistic Regression': pd.Series(default_lgr_metrics, index=metric_columns), \n",
    "        'K-Nearest Neighbors': pd.Series(default_knn_metrics, index=metric_columns), \n",
    "        'Decision Tree': pd.Series(default_dtc_metrics, index=metric_columns),\n",
    "        'Support Vector Machine': pd.Series(default_svc_metrics, index=metric_columns)}).T\n",
    "default_results"
   ]
  },
  {
   "cell_type": "markdown",
   "id": "9f803019-0e7e-4a6e-ab23-c7b7960608d0",
   "metadata": {},
   "source": [
    "Logistic regression had a higher recall score. SVC had a higher precision score, but the train time for SVC was much longer."
   ]
  },
  {
   "cell_type": "code",
   "execution_count": null,
   "id": "49a63bed",
   "metadata": {},
   "outputs": [],
   "source": []
  },
  {
   "cell_type": "markdown",
   "id": "56e3387c-9165-448e-add2-6bf889ca82ac",
   "metadata": {},
   "source": [
    "#### Modeling with Grid Search"
   ]
  },
  {
   "cell_type": "markdown",
   "id": "219f5c40-45b8-424a-a75c-8372a5f89425",
   "metadata": {},
   "source": [
    "Considering the test scores for the default models, it's unlikely that the models can be used as the only source to determine if the vehicle was speeding. However, we could use model to find potential speeding vehicles. We will use recall to evaluate the models. This will make the models more likely to find all speeding vehciles. Readings that are classified as speeding can be sent to a more accurate, but more expensive, speed limit service."
   ]
  },
  {
   "cell_type": "markdown",
   "id": "515de04c-353e-4139-9110-456633d21c85",
   "metadata": {},
   "source": [
    "Custom scorer"
   ]
  },
  {
   "cell_type": "code",
   "execution_count": 41,
   "id": "0cd4ff4c-4662-4d74-9857-63680d0e4997",
   "metadata": {},
   "outputs": [],
   "source": [
    "recall_scorer = make_scorer(recall_score, pos_label='Yes')"
   ]
  },
  {
   "cell_type": "markdown",
   "id": "a94a354b-a1bb-4ce6-a339-15ace30573f9",
   "metadata": {},
   "source": [
    "Support funtion to print time and recall scores"
   ]
  },
  {
   "cell_type": "code",
   "execution_count": 42,
   "id": "14e359cc-8019-41c6-8b5e-1560c1685548",
   "metadata": {},
   "outputs": [],
   "source": [
    "def printTunedMetrics(train_time, train_score, test_score):\n",
    "    print('Train Time is', train_time, 'ms,', \\\n",
    "      'Train Recall is', train_score, ',', \\\n",
    "      'Test Recall is', test_score)"
   ]
  },
  {
   "cell_type": "markdown",
   "id": "fb156aec-a7f9-4b87-bf5f-0d5981d704d3",
   "metadata": {},
   "source": [
    "Logistic Regression"
   ]
  },
  {
   "cell_type": "code",
   "execution_count": 43,
   "id": "ea6990b7-ee81-497b-899e-6028ec1fa44c",
   "metadata": {},
   "outputs": [],
   "source": [
    "params = [\n",
    "  {'lgr__C': [0.001, 0.01, 0.1, 1, 10, 100, 1000], 'lgr__penalty': ['l1', 'l2'], 'lgr__solver': ['liblinear']},\n",
    "  {'lgr__C': [0.001, 0.01, 0.1, 1, 10, 100, 1000], 'lgr__penalty': ['l2'], 'lgr__solver': ['lbfgs','newton-cg', 'newton-cholesky']},\n",
    " ]\n",
    "tuned_lgr_pipe = Pipeline([\n",
    "    ('scale', StandardScaler()),\n",
    "    ('lgr', LogisticRegression(random_state=42))])\n",
    "tuned_lgr = GridSearchCV(tuned_lgr_pipe, params, cv=5, scoring=recall_scorer).fit(X_train, y_train)"
   ]
  },
  {
   "cell_type": "code",
   "execution_count": 44,
   "id": "ba8ad707-10ab-4471-862e-0e261e215144",
   "metadata": {},
   "outputs": [
    {
     "name": "stdout",
     "output_type": "stream",
     "text": [
      "Best parameters:\n",
      "{'lgr__C': 0.001, 'lgr__penalty': 'l1', 'lgr__solver': 'liblinear'}\n"
     ]
    }
   ],
   "source": [
    "print('Best parameters:')\n",
    "print(tuned_lgr.best_params_)"
   ]
  },
  {
   "cell_type": "code",
   "execution_count": 45,
   "id": "e5715a56-4acc-4092-9a03-22957c982d4a",
   "metadata": {},
   "outputs": [],
   "source": [
    "tuned_lgr_start_time_ms = round(time.time() * 1000) \n",
    "tuned_lgr.best_estimator_.fit(X_train, y_train)\n",
    "tuned_lgr_end_time_ms = round(time.time() * 1000)\n",
    "lgr_y_pred = tuned_lgr.predict(X_test)"
   ]
  },
  {
   "cell_type": "code",
   "execution_count": 46,
   "id": "c4b6e963-4839-4784-af46-9829b7799f40",
   "metadata": {},
   "outputs": [
    {
     "data": {
      "image/png": "[encoded data removed]",
      "text/plain": [
       "<Figure size 640x480 with 2 Axes>"
      ]
     },
     "metadata": {},
     "output_type": "display_data"
    }
   ],
   "source": [
    "lgr_cm = confusion_matrix(y_test, lgr_y_pred)\n",
    "\n",
    "lgr_cmd = ConfusionMatrixDisplay(confusion_matrix=lgr_cm, display_labels=tuned_lgr.classes_)\n",
    "fig = lgr_cmd.plot().figure_\n",
    "plt.title('Tuned Logistic Regression Confusion Matrix')\n",
    "plt.show()\n",
    "fig.tight_layout(rect=(0,.05,1,1)) "
   ]
  },
  {
   "cell_type": "code",
   "execution_count": 47,
   "id": "8af69067-8992-40b0-b7ca-6ae8c7af2258",
   "metadata": {},
   "outputs": [
    {
     "name": "stdout",
     "output_type": "stream",
     "text": [
      "Train Time is 14 ms, Train Recall is 0.8473 , Test Recall is 0.868\n"
     ]
    }
   ],
   "source": [
    "tuned_lgr_train_time = round(tuned_lgr_end_time_ms - tuned_lgr_start_time_ms)\n",
    "tuned_lgr_train_score = round(tuned_lgr.score(X_train, y_train), 4)\n",
    "tuned_lgr_test_score = round(recall_score(y_test, lgr_y_pred, pos_label='Yes'), 4)\n",
    "printTunedMetrics(tuned_lgr_train_time, tuned_lgr_train_score, tuned_lgr_test_score)"
   ]
  },
  {
   "cell_type": "code",
   "execution_count": null,
   "id": "0b7fd46e-6649-47d3-9d48-fbad31821763",
   "metadata": {},
   "outputs": [],
   "source": []
  },
  {
   "cell_type": "markdown",
   "id": "c34ef305-0077-4ab6-84db-dfacce793ad3",
   "metadata": {},
   "source": [
    "K-Nearest Neighbor"
   ]
  },
  {
   "cell_type": "code",
   "execution_count": 48,
   "id": "5da70209-83ac-4560-a96a-a0240d30814f",
   "metadata": {},
   "outputs": [],
   "source": [
    "params = {'knn__n_neighbors': [1, 3, 5, 7, 9, 11, 15, 21, 25],\n",
    "        'knn__weights': ['uniform', 'distance'],\n",
    "        'knn__metric': ['euclidean', 'minkowski', 'manhattan']\n",
    "}\n",
    "tuned_knn_pipe = Pipeline([\n",
    "    ('scale', StandardScaler()),\n",
    "    ('knn', KNeighborsClassifier())])\n",
    "tuned_knn = GridSearchCV(tuned_knn_pipe, params, cv=5, scoring=recall_scorer).fit(X_train, y_train)"
   ]
  },
  {
   "cell_type": "code",
   "execution_count": 49,
   "id": "ed19f6e5-3073-45eb-88c6-4db7e176d66a",
   "metadata": {},
   "outputs": [
    {
     "name": "stdout",
     "output_type": "stream",
     "text": [
      "Best parameters:\n",
      "{'knn__metric': 'euclidean', 'knn__n_neighbors': 21, 'knn__weights': 'uniform'}\n"
     ]
    }
   ],
   "source": [
    "print('Best parameters:')\n",
    "print(tuned_knn.best_params_)"
   ]
  },
  {
   "cell_type": "code",
   "execution_count": 50,
   "id": "15109019-fba7-49d8-a188-42d1dda13f43",
   "metadata": {},
   "outputs": [],
   "source": [
    "tuned_knn_start_time_ms = round(time.time() * 1000) \n",
    "tuned_knn.best_estimator_.fit(X_train, y_train)\n",
    "tuned_knn_end_time_ms = round(time.time() * 1000)\n",
    "knn_y_pred = tuned_knn.predict(X_test)"
   ]
  },
  {
   "cell_type": "code",
   "execution_count": 51,
   "id": "565728cf-112d-411f-905e-5508c40f05b6",
   "metadata": {},
   "outputs": [
    {
     "data": {
      "image/png": "[encoded data removed]",
      "text/plain": [
       "<Figure size 640x480 with 2 Axes>"
      ]
     },
     "metadata": {},
     "output_type": "display_data"
    }
   ],
   "source": [
    "knn_cm = confusion_matrix(y_test, knn_y_pred)\n",
    "\n",
    "knn_cmd = ConfusionMatrixDisplay(confusion_matrix=lgr_cm, display_labels=tuned_knn.classes_)\n",
    "fig = knn_cmd.plot().figure_\n",
    "plt.title('Tuned K-Nearest Neighbors Confusion Matrix')\n",
    "plt.show()\n",
    "fig.tight_layout(rect=(0,.05,1,1)) "
   ]
  },
  {
   "cell_type": "code",
   "execution_count": 52,
   "id": "915b854c-c8c0-4133-aee7-5afa0e62b56e",
   "metadata": {},
   "outputs": [
    {
     "name": "stdout",
     "output_type": "stream",
     "text": [
      "Train Time is 16 ms, Train Recall is 0.7301 , Test Recall is 0.7069\n"
     ]
    }
   ],
   "source": [
    "tuned_knn_train_time = round(tuned_knn_end_time_ms - tuned_knn_start_time_ms)\n",
    "tuned_knn_train_score = round(tuned_knn.score(X_train, y_train), 4)\n",
    "tuned_knn_test_score = round(recall_score(y_test, knn_y_pred, pos_label='Yes'), 4)\n",
    "printTunedMetrics(tuned_knn_train_time, tuned_knn_train_score, tuned_knn_test_score)"
   ]
  },
  {
   "cell_type": "code",
   "execution_count": null,
   "id": "bac51243-0b58-426b-ac69-ea1496b25693",
   "metadata": {},
   "outputs": [],
   "source": []
  },
  {
   "cell_type": "markdown",
   "id": "2e8267d0-c39c-4820-bcaa-aef22a076a00",
   "metadata": {},
   "source": [
    "Decision Tree"
   ]
  },
  {
   "cell_type": "code",
   "execution_count": 53,
   "id": "60b430b1-eadf-4213-808e-b8a282ea62f5",
   "metadata": {},
   "outputs": [],
   "source": [
    "params =  {'criterion': [\"gini\", \"entropy\"],\n",
    "    'max_depth': [3, 5, 15, 21, 25, None],\n",
    "    'min_samples_split': [2, 5, 15, 25, 50],\n",
    "    'min_samples_leaf': [1, 2, 5, 7, 15]\n",
    "}\n",
    "tuned_dtc = GridSearchCV(DecisionTreeClassifier(random_state=42), params, cv=5, scoring=recall_scorer).fit(X_train, y_train)"
   ]
  },
  {
   "cell_type": "code",
   "execution_count": 54,
   "id": "e3e2fe3a-3ec7-4eb3-a45c-f1a8e98afca3",
   "metadata": {},
   "outputs": [
    {
     "name": "stdout",
     "output_type": "stream",
     "text": [
      "{'criterion': 'entropy', 'max_depth': 15, 'min_samples_leaf': 1, 'min_samples_split': 25}\n"
     ]
    }
   ],
   "source": [
    "print(tuned_dtc.best_params_)"
   ]
  },
  {
   "cell_type": "code",
   "execution_count": 55,
   "id": "423d278b-8d4e-4166-a604-698a93122071",
   "metadata": {},
   "outputs": [],
   "source": [
    "tuned_dtc_start_time_ms = round(time.time() * 1000) \n",
    "tuned_dtc.best_estimator_.fit(X_train, y_train)\n",
    "tuned_dtc_end_time_ms = round(time.time() * 1000)\n",
    "dtc_y_pred = tuned_dtc.predict(X_test)"
   ]
  },
  {
   "cell_type": "code",
   "execution_count": 56,
   "id": "51147438-2448-40a4-a561-6b286e93466f",
   "metadata": {},
   "outputs": [
    {
     "data": {
      "image/png": "[encoded data removed]",
      "text/plain": [
       "<Figure size 640x480 with 2 Axes>"
      ]
     },
     "metadata": {},
     "output_type": "display_data"
    }
   ],
   "source": [
    "dtc_cm = confusion_matrix(y_test, dtc_y_pred)\n",
    "\n",
    "dtc_cmd = ConfusionMatrixDisplay(confusion_matrix=dtc_cm, display_labels=tuned_dtc.classes_)\n",
    "fig = dtc_cmd.plot().figure_\n",
    "plt.title('Decision Tree Confusion Matrix')\n",
    "plt.show()\n",
    "fig.tight_layout(rect=(0,.05,1,1)) "
   ]
  },
  {
   "cell_type": "code",
   "execution_count": 57,
   "id": "f0b953a6-1262-4141-b9e6-5618ff93f84f",
   "metadata": {},
   "outputs": [
    {
     "name": "stdout",
     "output_type": "stream",
     "text": [
      "Train Time is 18 ms, Train Recall is 0.7232 , Test Recall is 0.693\n"
     ]
    }
   ],
   "source": [
    "tuned_dtc_train_time = round(tuned_dtc_end_time_ms - tuned_dtc_start_time_ms)\n",
    "tuned_dtc_train_score = round(tuned_dtc.score(X_train, y_train), 4)\n",
    "tuned_dtc_test_score = round(recall_score(y_test, dtc_y_pred, pos_label='Yes'), 4)\n",
    "printTunedMetrics(tuned_dtc_train_time, tuned_dtc_train_score, tuned_dtc_test_score)"
   ]
  },
  {
   "cell_type": "code",
   "execution_count": null,
   "id": "e43ac88c-37d4-43a7-a640-62129bf55668",
   "metadata": {},
   "outputs": [],
   "source": []
  },
  {
   "cell_type": "markdown",
   "id": "511e95d8-e6e8-4e1a-bf98-60e8f4ee18b5",
   "metadata": {},
   "source": [
    "Support Vector Classifier"
   ]
  },
  {
   "cell_type": "code",
   "execution_count": 58,
   "id": "9bf0f587-b713-4e79-bb0b-2b9477692eb8",
   "metadata": {},
   "outputs": [],
   "source": [
    "params = [\n",
    "    {'svc__C': [0.1, 1], 'svc__kernel': ['linear', 'rbf'] },\n",
    "    {'svc__C': [0.1, 1, 10], 'svc__kernel': ['poly'], 'svc__degree': [2, 3, 4] }\n",
    " ]\n",
    "tuned_svc_pipe = Pipeline([\n",
    "    ('scale', StandardScaler()),\n",
    "    ('svc', SVC(random_state=42))])\n",
    "\n",
    "tuned_svc = GridSearchCV(tuned_svc_pipe, params, return_train_score=True, cv=5, scoring=recall_scorer).fit(X_train, y_train)"
   ]
  },
  {
   "cell_type": "code",
   "execution_count": 59,
   "id": "c842470b-6b6a-49a9-bdd9-c686f55d4445",
   "metadata": {},
   "outputs": [
    {
     "name": "stdout",
     "output_type": "stream",
     "text": [
      "{'svc__C': 0.1, 'svc__kernel': 'linear'}\n"
     ]
    }
   ],
   "source": [
    "print(tuned_svc.best_params_)"
   ]
  },
  {
   "cell_type": "code",
   "execution_count": 60,
   "id": "9ee97f09-78a3-4bfd-b0ce-a0f05aca640f",
   "metadata": {},
   "outputs": [],
   "source": [
    "tuned_svc_start_time_ms = round(time.time() * 1000) \n",
    "tuned_svc.best_estimator_.fit(X_train, y_train)\n",
    "tuned_svc_end_time_ms = round(time.time() * 1000)\n",
    "svc_y_pred = tuned_svc.predict(X_test)"
   ]
  },
  {
   "cell_type": "code",
   "execution_count": 61,
   "id": "b107efc8-72cf-4d0b-9502-f6c823637af8",
   "metadata": {},
   "outputs": [
    {
     "data": {
      "image/png": "[encoded data removed]",
      "text/plain": [
       "<Figure size 640x480 with 2 Axes>"
      ]
     },
     "metadata": {},
     "output_type": "display_data"
    }
   ],
   "source": [
    "svc_cm = confusion_matrix(y_test, svc_y_pred)\n",
    "\n",
    "svc_cmd = ConfusionMatrixDisplay(confusion_matrix=svc_cm, display_labels=tuned_svc.classes_)\n",
    "fig = svc_cmd.plot().figure_\n",
    "plt.title('Support Vector Machine Confusion Matrix')\n",
    "plt.show()\n",
    "fig.tight_layout(rect=(0,.05,1,1)) "
   ]
  },
  {
   "cell_type": "code",
   "execution_count": 62,
   "id": "8cb1b98d-8be9-4435-adff-e5c177ff320d",
   "metadata": {},
   "outputs": [
    {
     "name": "stdout",
     "output_type": "stream",
     "text": [
      "Train Time is 1318 ms, Train Recall is 0.7333 , Test Recall is 0.7599\n"
     ]
    }
   ],
   "source": [
    "tuned_svc_train_time = round(tuned_svc_end_time_ms - tuned_svc_start_time_ms)\n",
    "tuned_svc_train_score = round(tuned_svc.score(X_train, y_train), 4)\n",
    "tuned_svc_test_score = round(recall_score(y_test, svc_y_pred, pos_label='Yes'), 4)\n",
    "printTunedMetrics(tuned_svc_train_time, tuned_svc_train_score, tuned_svc_test_score)"
   ]
  },
  {
   "cell_type": "code",
   "execution_count": null,
   "id": "a8b9d05a-1f19-482b-85fe-b555f19dd0d5",
   "metadata": {},
   "outputs": [],
   "source": []
  },
  {
   "cell_type": "markdown",
   "id": "6537c209-4875-454a-b833-f7178499de79",
   "metadata": {},
   "source": [
    "Hyperparameter Tuning Results"
   ]
  },
  {
   "cell_type": "code",
   "execution_count": 63,
   "id": "e4cbe61d-37da-4ce2-ba03-09eb155eac90",
   "metadata": {},
   "outputs": [
    {
     "data": {
      "text/html": [
       "<div>\n",
       "<style scoped>\n",
       "    .dataframe tbody tr th:only-of-type {\n",
       "        vertical-align: middle;\n",
       "    }\n",
       "\n",
       "    .dataframe tbody tr th {\n",
       "        vertical-align: top;\n",
       "    }\n",
       "\n",
       "    .dataframe thead th {\n",
       "        text-align: right;\n",
       "    }\n",
       "</style>\n",
       "<table border=\"1\" class=\"dataframe\">\n",
       "  <thead>\n",
       "    <tr style=\"text-align: right;\">\n",
       "      <th></th>\n",
       "      <th>Train Time (ms)</th>\n",
       "      <th>Train Recall</th>\n",
       "      <th>Test Recall</th>\n",
       "    </tr>\n",
       "  </thead>\n",
       "  <tbody>\n",
       "    <tr>\n",
       "      <th>Logistic Regression</th>\n",
       "      <td>14</td>\n",
       "      <td>0.8473</td>\n",
       "      <td>0.8680</td>\n",
       "    </tr>\n",
       "    <tr>\n",
       "      <th>K-Nearest Neighbors</th>\n",
       "      <td>16</td>\n",
       "      <td>0.7301</td>\n",
       "      <td>0.7069</td>\n",
       "    </tr>\n",
       "    <tr>\n",
       "      <th>Decision Tree</th>\n",
       "      <td>18</td>\n",
       "      <td>0.7232</td>\n",
       "      <td>0.6930</td>\n",
       "    </tr>\n",
       "    <tr>\n",
       "      <th>Support Vector Machine</th>\n",
       "      <td>1318</td>\n",
       "      <td>0.7333</td>\n",
       "      <td>0.7599</td>\n",
       "    </tr>\n",
       "  </tbody>\n",
       "</table>\n",
       "</div>"
      ],
      "text/plain": [
       "                        Train Time (ms)  Train Recall  Test Recall\n",
       "Logistic Regression                  14        0.8473       0.8680\n",
       "K-Nearest Neighbors                  16        0.7301       0.7069\n",
       "Decision Tree                        18        0.7232       0.6930\n",
       "Support Vector Machine             1318        0.7333       0.7599"
      ]
     },
     "execution_count": 63,
     "metadata": {},
     "output_type": "execute_result"
    }
   ],
   "source": [
    "tuned_results = pd.DataFrame({\n",
    "    'Train Time (ms)': [tuned_lgr_train_time, tuned_knn_train_time, tuned_dtc_train_time, tuned_svc_train_time],\n",
    "    'Train Recall': [tuned_lgr_train_score, tuned_knn_train_score, tuned_dtc_train_score, tuned_svc_train_score],\n",
    "    'Test Recall': [tuned_lgr_test_score, tuned_knn_test_score, tuned_dtc_test_score, tuned_svc_test_score]\n",
    "}, index=['Logistic Regression','K-Nearest Neighbors','Decision Tree','Support Vector Machine'])\n",
    "tuned_results"
   ]
  },
  {
   "cell_type": "markdown",
   "id": "c90bb6f7-6887-43a1-8857-5219fcc8897a",
   "metadata": {},
   "source": [
    "With hyperparameter tuning, the logistic regression model had the best score."
   ]
  },
  {
   "cell_type": "code",
   "execution_count": null,
   "id": "8f0d49ba-1efc-4e3f-a013-cd5a7f4c0f7f",
   "metadata": {},
   "outputs": [],
   "source": []
  },
  {
   "attachments": {},
   "cell_type": "markdown",
   "id": "56530a60-83c3-49a9-9e13-d81aa0a0879f",
   "metadata": {},
   "source": [
    "#### Modeling with Ensamble Techniques"
   ]
  },
  {
   "cell_type": "markdown",
   "id": "a7a8cc2f-21fe-4ea4-8fe6-69a660bec92b",
   "metadata": {},
   "source": [
    "To explore ensamble techniques, a random forest classifier and AdaBoost classifier are selected using grid search. "
   ]
  },
  {
   "cell_type": "code",
   "execution_count": 64,
   "id": "764d4547-f9c7-48f5-9514-9b29e7dc9766",
   "metadata": {},
   "outputs": [],
   "source": [
    "params =  {\n",
    "           'n_estimators': [1, 10, 25, 100, 200],\n",
    "           'criterion': [\"gini\", \"entropy\"],\n",
    "           'max_depth': [3, 5, 15, None]\n",
    "          }\n",
    "gscv_rfc = GridSearchCV(RandomForestClassifier(random_state=42), params, return_train_score=True, cv=5, scoring=recall_scorer).fit(X_train, y_train)"
   ]
  },
  {
   "cell_type": "code",
   "execution_count": 65,
   "id": "63afe3c5-4868-4127-8c7a-7594173672b2",
   "metadata": {},
   "outputs": [
    {
     "name": "stdout",
     "output_type": "stream",
     "text": [
      "{'criterion': 'entropy', 'max_depth': 5, 'n_estimators': 200}\n"
     ]
    }
   ],
   "source": [
    "print(gscv_rfc.best_params_)"
   ]
  },
  {
   "cell_type": "code",
   "execution_count": 66,
   "id": "bea511f2-4e62-42df-b06e-14d05e8f3444",
   "metadata": {},
   "outputs": [],
   "source": [
    "tuned_rfc_start_time_ms = round(time.time() * 1000) \n",
    "gscv_rfc.best_estimator_.fit(X_train, y_train)\n",
    "tuned_rfc_end_time_ms = round(time.time() * 1000)"
   ]
  },
  {
   "cell_type": "code",
   "execution_count": 67,
   "id": "26d9d6ed-f1c6-4437-96df-cfafd06b92bf",
   "metadata": {},
   "outputs": [
    {
     "name": "stdout",
     "output_type": "stream",
     "text": [
      "Train Time is 397 ms, Train Recall is 0.8924 , Test Recall is 0.9015\n"
     ]
    }
   ],
   "source": [
    "rfc_y_pred = gscv_rfc.predict(X_test)\n",
    "tuned_rfc_train_time = round(tuned_rfc_end_time_ms - tuned_rfc_start_time_ms)\n",
    "tuned_rfc_train_score = round(gscv_rfc.score(X_train, y_train), 4)\n",
    "tuned_rfc_test_score = round(recall_score(y_test, rfc_y_pred, pos_label='Yes'), 4)\n",
    "printTunedMetrics(tuned_rfc_train_time, tuned_rfc_train_score, tuned_rfc_test_score)"
   ]
  },
  {
   "cell_type": "code",
   "execution_count": null,
   "id": "faff1bdf-ac72-4e6c-827f-5cf64d6cc6a5",
   "metadata": {},
   "outputs": [],
   "source": []
  },
  {
   "cell_type": "code",
   "execution_count": 68,
   "id": "48fcae8d-8f8b-4439-a538-424a2e44e8b9",
   "metadata": {},
   "outputs": [],
   "source": [
    "params = {'abc__estimator__C': [1]}\n",
    "params = [\n",
    "  {'abc__estimator__C': [0.001, 0.01, 0.1, 1, 10, 100, 1000], \n",
    "   'abc__estimator__penalty': ['l1', 'l2'], \n",
    "   'abc__estimator__solver': ['liblinear']\n",
    "  },\n",
    "  {'abc__estimator__C': [0.001, 0.01, 0.1, 1, 10, 100, 1000], \n",
    "   'abc__estimator__penalty': ['l2'], \n",
    "   'abc__estimator__solver': ['lbfgs','newton-cg', 'newton-cholesky'],\n",
    "  }\n",
    " ]\n",
    "lgr_pipe = Pipeline([\n",
    "    ('scale', StandardScaler()),\n",
    "    ('abc', AdaBoostClassifier(estimator=LogisticRegression(), algorithm=\"SAMME\", random_state = 42))])\n",
    "gscv_abc = GridSearchCV(lgr_pipe, params, return_train_score=True, cv=5, scoring=recall_scorer).fit(X_train, y_train)"
   ]
  },
  {
   "cell_type": "code",
   "execution_count": 69,
   "id": "898b9e4d-09fe-4085-9a21-3760760ddda0",
   "metadata": {},
   "outputs": [
    {
     "name": "stdout",
     "output_type": "stream",
     "text": [
      "{'abc__estimator__C': 10, 'abc__estimator__penalty': 'l1', 'abc__estimator__solver': 'liblinear'}\n"
     ]
    }
   ],
   "source": [
    "print(gscv_abc.best_params_)"
   ]
  },
  {
   "cell_type": "code",
   "execution_count": 70,
   "id": "c1285c1e-35d4-4e16-ab92-4446f96a4e4e",
   "metadata": {},
   "outputs": [],
   "source": [
    "tuned_abc_start_time_ms = round(time.time() * 1000) \n",
    "gscv_abc.best_estimator_.fit(X_train, y_train)\n",
    "tuned_abc_end_time_ms = round(time.time() * 1000)"
   ]
  },
  {
   "cell_type": "code",
   "execution_count": 71,
   "id": "d1e9a440-20b4-4411-a03d-a9cd41cee4d1",
   "metadata": {},
   "outputs": [
    {
     "name": "stdout",
     "output_type": "stream",
     "text": [
      "Train Time is 499 ms, Train Recall is 0.9116 , Test Recall is 0.9191\n"
     ]
    }
   ],
   "source": [
    "abc_y_pred = gscv_abc.predict(X_test)\n",
    "tuned_abc_train_time = round(tuned_abc_end_time_ms - tuned_abc_start_time_ms)\n",
    "tuned_abc_train_score = round(gscv_abc.score(X_train, y_train), 4)\n",
    "tuned_abc_test_score = round(recall_score(y_test, abc_y_pred, pos_label='Yes'), 4)\n",
    "printTunedMetrics(tuned_abc_train_time, tuned_abc_train_score, tuned_abc_test_score)"
   ]
  },
  {
   "cell_type": "code",
   "execution_count": null,
   "id": "652d9195-8d9d-4cb7-b6c5-2c1ab92923e9",
   "metadata": {},
   "outputs": [],
   "source": []
  },
  {
   "cell_type": "markdown",
   "id": "060adf73-b6d0-491d-b242-2f1aa0d711ac",
   "metadata": {},
   "source": [
    "Both ensamble techniques performed better than any of the tuned models. The AdaBoost classifier using a logistic regression estimator performed slightly better than the random forest."
   ]
  },
  {
   "cell_type": "markdown",
   "id": "a781ac4b-b492-4475-bc5c-e0106e7da424",
   "metadata": {},
   "source": [
    "## 5. Model Evaluation"
   ]
  },
  {
   "cell_type": "markdown",
   "id": "7c17eb7d-3698-4681-9314-665b53081b6a",
   "metadata": {},
   "source": [
    "### Conclusion and Next Steps"
   ]
  },
  {
   "cell_type": "markdown",
   "id": "9cf781da-6f18-4a02-9654-7507c4ca996a",
   "metadata": {},
   "source": [
    "The test scores show that ML modeling is a viable way to predict events when the driver is over the posted speed limit. Ensamble techniques brought the recall score over 0.9. Although this is still too low to use the model as the sole source for identifying speeding, it can used with a speed limit API to reduce error to nearly zero while cutting API costs considerably.\n",
    "\n",
    "Future work will include model selection, deployment, and testing. We might also be able to interpolate some missing feature data to increase the data set size and make the service more generally useful. As the OSM database becomes more complete, model error should continue to drop. We might eventually be able to use the model as the sole source to find speeders reducing API costs further."
   ]
  },
  {
   "cell_type": "code",
   "execution_count": null,
   "id": "c2571f43-efd5-4bc1-af49-658e78f00e14",
   "metadata": {},
   "outputs": [],
   "source": []
  }
 ],
 "metadata": {
  "kernelspec": {
   "display_name": "Python 3 (ipykernel)",
   "language": "python",
   "name": "python3"
  },
  "language_info": {
   "codemirror_mode": {
    "name": "ipython",
    "version": 3
   },
   "file_extension": ".py",
   "mimetype": "text/x-python",
   "name": "python",
   "nbconvert_exporter": "python",
   "pygments_lexer": "ipython3",
   "version": "3.12.4"
  }
 },
 "nbformat": 4,
 "nbformat_minor": 5
}
